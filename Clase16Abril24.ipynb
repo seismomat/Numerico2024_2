{
  "nbformat": 4,
  "nbformat_minor": 0,
  "metadata": {
    "colab": {
      "provenance": [],
      "authorship_tag": "ABX9TyNwX0x0/ePpoUApoahODIw/",
      "include_colab_link": true
    },
    "kernelspec": {
      "name": "python3",
      "display_name": "Python 3"
    },
    "language_info": {
      "name": "python"
    }
  },
  "cells": [
    {
      "cell_type": "markdown",
      "metadata": {
        "id": "view-in-github",
        "colab_type": "text"
      },
      "source": [
        "<a href=\"https://colab.research.google.com/github/seismomat/Numerico2024_2/blob/main/Clase16Abril24.ipynb\" target=\"_parent\"><img src=\"https://colab.research.google.com/assets/colab-badge.svg\" alt=\"Open In Colab\"/></a>"
      ]
    },
    {
      "cell_type": "code",
      "execution_count": 1,
      "metadata": {
        "id": "HSupilqEfVFn"
      },
      "outputs": [],
      "source": [
        "import numpy as np"
      ]
    },
    {
      "cell_type": "code",
      "source": [
        "A=np.array([[-1.,-1.,1.],[1.,3.,3.],[-1.,-1.,5.],[1.,3.,7.]])\n",
        "A"
      ],
      "metadata": {
        "colab": {
          "base_uri": "https://localhost:8080/"
        },
        "id": "Ietj_ESVfW23",
        "outputId": "f02b7453-d0e6-441f-d703-dcd4b508d5ef"
      },
      "execution_count": 2,
      "outputs": [
        {
          "output_type": "execute_result",
          "data": {
            "text/plain": [
              "array([[-1., -1.,  1.],\n",
              "       [ 1.,  3.,  3.],\n",
              "       [-1., -1.,  5.],\n",
              "       [ 1.,  3.,  7.]])"
            ]
          },
          "metadata": {},
          "execution_count": 2
        }
      ]
    },
    {
      "cell_type": "code",
      "source": [
        "Q=np.zeros_like(A)\n",
        "R=np.zeros((A.shape[1],A.shape[1]))"
      ],
      "metadata": {
        "id": "5sSOfD5-f1-n"
      },
      "execution_count": 3,
      "outputs": []
    },
    {
      "cell_type": "markdown",
      "source": [
        "Primer iteracion"
      ],
      "metadata": {
        "id": "TsaAqzQIgy3i"
      }
    },
    {
      "cell_type": "code",
      "source": [
        "Vi=A[:,0]\n",
        "R[0,0]=np.linalg.norm(Vi)\n",
        "Q[:,0]=Vi/R[0,0]"
      ],
      "metadata": {
        "id": "DmPbc1GJfiWy"
      },
      "execution_count": 4,
      "outputs": []
    },
    {
      "cell_type": "markdown",
      "source": [
        "Segunda iteracion"
      ],
      "metadata": {
        "id": "Dl50EuDag0zS"
      }
    },
    {
      "cell_type": "code",
      "source": [
        "R[0,1]=np.dot(Q[:,0].T,A[:,1])\n",
        "Q[:,1]=A[:,1]-R[0,1]*Q[:,0]\n",
        "R[1,1]=np.linalg.norm(Q[:,1])\n",
        "Q[:,1]=Q[:,1]/R[1,1]"
      ],
      "metadata": {
        "id": "L3-izCJygvXl"
      },
      "execution_count": 5,
      "outputs": []
    },
    {
      "cell_type": "code",
      "source": [
        "R"
      ],
      "metadata": {
        "colab": {
          "base_uri": "https://localhost:8080/"
        },
        "id": "kowxO1uEiHrq",
        "outputId": "d249c8bd-ca58-4db8-ee64-895bb69f1248"
      },
      "execution_count": 6,
      "outputs": [
        {
          "output_type": "execute_result",
          "data": {
            "text/plain": [
              "array([[2., 4., 0.],\n",
              "       [0., 2., 0.],\n",
              "       [0., 0., 0.]])"
            ]
          },
          "metadata": {},
          "execution_count": 6
        }
      ]
    },
    {
      "cell_type": "code",
      "source": [
        "Q"
      ],
      "metadata": {
        "colab": {
          "base_uri": "https://localhost:8080/"
        },
        "id": "da9ZOPJhiYn_",
        "outputId": "5a4364de-1f74-4d2e-ba5b-2f75a773bc20"
      },
      "execution_count": 7,
      "outputs": [
        {
          "output_type": "execute_result",
          "data": {
            "text/plain": [
              "array([[-0.5,  0.5,  0. ],\n",
              "       [ 0.5,  0.5,  0. ],\n",
              "       [-0.5,  0.5,  0. ],\n",
              "       [ 0.5,  0.5,  0. ]])"
            ]
          },
          "metadata": {},
          "execution_count": 7
        }
      ]
    },
    {
      "cell_type": "markdown",
      "source": [
        "Tercera iteracion"
      ],
      "metadata": {
        "id": "EtjwIizziu_8"
      }
    },
    {
      "cell_type": "code",
      "source": [
        "R[0,2]=np.dot(Q[:,0].T,A[:,2])\n",
        "R[1,2]=np.dot(Q[:,1].T,A[:,2])\n",
        "Q[:,2]=A[:,2]-R[0,2]*Q[:,0]-R[1,2]*Q[:,1]\n",
        "R[2,2]=np.linalg.norm(Q[:,2])\n",
        "Q[:,2]=Q[:,2]/R[2,2]"
      ],
      "metadata": {
        "id": "6NGdXWPOiZb-"
      },
      "execution_count": 8,
      "outputs": []
    },
    {
      "cell_type": "code",
      "source": [
        "Q"
      ],
      "metadata": {
        "colab": {
          "base_uri": "https://localhost:8080/"
        },
        "id": "AJ6CqHucjOF2",
        "outputId": "1278b320-c52c-49dc-be9e-dcd3f2939549"
      },
      "execution_count": 9,
      "outputs": [
        {
          "output_type": "execute_result",
          "data": {
            "text/plain": [
              "array([[-0.5,  0.5, -0.5],\n",
              "       [ 0.5,  0.5, -0.5],\n",
              "       [-0.5,  0.5,  0.5],\n",
              "       [ 0.5,  0.5,  0.5]])"
            ]
          },
          "metadata": {},
          "execution_count": 9
        }
      ]
    },
    {
      "cell_type": "code",
      "source": [
        "R"
      ],
      "metadata": {
        "colab": {
          "base_uri": "https://localhost:8080/"
        },
        "id": "3kb2vMiqjPOY",
        "outputId": "b65f7a61-7a61-4763-8747-a5cf75d00cf2"
      },
      "execution_count": 10,
      "outputs": [
        {
          "output_type": "execute_result",
          "data": {
            "text/plain": [
              "array([[2., 4., 2.],\n",
              "       [0., 2., 8.],\n",
              "       [0., 0., 4.]])"
            ]
          },
          "metadata": {},
          "execution_count": 10
        }
      ]
    },
    {
      "cell_type": "code",
      "source": [],
      "metadata": {
        "id": "kJaUVltujPw5"
      },
      "execution_count": 10,
      "outputs": []
    }
  ]
}