{
  "nbformat": 4,
  "nbformat_minor": 0,
  "metadata": {
    "colab": {
      "provenance": [],
      "authorship_tag": "ABX9TyNk7WqHnnlmyyU1/9YYBfO3",
      "include_colab_link": true
    },
    "kernelspec": {
      "name": "python3",
      "display_name": "Python 3"
    },
    "language_info": {
      "name": "python"
    }
  },
  "cells": [
    {
      "cell_type": "markdown",
      "metadata": {
        "id": "view-in-github",
        "colab_type": "text"
      },
      "source": [
        "<a href=\"https://colab.research.google.com/github/seismomat/Numerico2024_2/blob/main/Clase16Abril24.ipynb\" target=\"_parent\"><img src=\"https://colab.research.google.com/assets/colab-badge.svg\" alt=\"Open In Colab\"/></a>"
      ]
    },
    {
      "cell_type": "code",
      "execution_count": 1,
      "metadata": {
        "id": "HSupilqEfVFn"
      },
      "outputs": [],
      "source": [
        "import numpy as np"
      ]
    },
    {
      "cell_type": "code",
      "source": [
        "A=np.array([[-1.,-1.,1.],[1.,3.,3.],[-1.,-1.,5.],[1.,3.,7.]])\n",
        "A"
      ],
      "metadata": {
        "colab": {
          "base_uri": "https://localhost:8080/"
        },
        "id": "Ietj_ESVfW23",
        "outputId": "2cf18e7e-048a-4e11-918c-312a189e604b"
      },
      "execution_count": 2,
      "outputs": [
        {
          "output_type": "execute_result",
          "data": {
            "text/plain": [
              "array([[-1., -1.,  1.],\n",
              "       [ 1.,  3.,  3.],\n",
              "       [-1., -1.,  5.],\n",
              "       [ 1.,  3.,  7.]])"
            ]
          },
          "metadata": {},
          "execution_count": 2
        }
      ]
    },
    {
      "cell_type": "code",
      "source": [
        "Q=np.zeros_like(A)\n",
        "R=np.zeros((A.shape[1],A.shape[1]))"
      ],
      "metadata": {
        "id": "5sSOfD5-f1-n"
      },
      "execution_count": 3,
      "outputs": []
    },
    {
      "cell_type": "markdown",
      "source": [
        "Primer iteracion"
      ],
      "metadata": {
        "id": "TsaAqzQIgy3i"
      }
    },
    {
      "cell_type": "code",
      "source": [
        "Vi=A[:,0]\n",
        "R[0,0]=np.linalg.norm(Vi)\n",
        "Q[:,0]=Vi/R[0,0]"
      ],
      "metadata": {
        "id": "DmPbc1GJfiWy"
      },
      "execution_count": 4,
      "outputs": []
    },
    {
      "cell_type": "code",
      "source": [
        "R, Q"
      ],
      "metadata": {
        "id": "6dzb2hyYyhie",
        "outputId": "c3a1c177-901a-4cfa-cf9b-dc50641eff2c",
        "colab": {
          "base_uri": "https://localhost:8080/"
        }
      },
      "execution_count": 5,
      "outputs": [
        {
          "output_type": "execute_result",
          "data": {
            "text/plain": [
              "(array([[2., 0., 0.],\n",
              "        [0., 0., 0.],\n",
              "        [0., 0., 0.]]),\n",
              " array([[-0.5,  0. ,  0. ],\n",
              "        [ 0.5,  0. ,  0. ],\n",
              "        [-0.5,  0. ,  0. ],\n",
              "        [ 0.5,  0. ,  0. ]]))"
            ]
          },
          "metadata": {},
          "execution_count": 5
        }
      ]
    },
    {
      "cell_type": "markdown",
      "source": [
        "Segunda iteracion"
      ],
      "metadata": {
        "id": "Dl50EuDag0zS"
      }
    },
    {
      "cell_type": "code",
      "source": [
        "R[0,1]=np.dot(Q[:,0].T,A[:,1])\n",
        "Q[:,1]=A[:,1]-R[0,1]*Q[:,0]\n",
        "R[1,1]=np.linalg.norm(Q[:,1])\n",
        "Q[:,1]=Q[:,1]/R[1,1]"
      ],
      "metadata": {
        "id": "L3-izCJygvXl"
      },
      "execution_count": 6,
      "outputs": []
    },
    {
      "cell_type": "code",
      "source": [
        "R"
      ],
      "metadata": {
        "colab": {
          "base_uri": "https://localhost:8080/"
        },
        "id": "kowxO1uEiHrq",
        "outputId": "66f8475f-77ed-497c-f9f9-fdb380d48f82"
      },
      "execution_count": 7,
      "outputs": [
        {
          "output_type": "execute_result",
          "data": {
            "text/plain": [
              "array([[2., 4., 0.],\n",
              "       [0., 2., 0.],\n",
              "       [0., 0., 0.]])"
            ]
          },
          "metadata": {},
          "execution_count": 7
        }
      ]
    },
    {
      "cell_type": "code",
      "source": [
        "Q"
      ],
      "metadata": {
        "colab": {
          "base_uri": "https://localhost:8080/"
        },
        "id": "da9ZOPJhiYn_",
        "outputId": "84e71688-9464-424c-95b1-334fcff1f990"
      },
      "execution_count": 8,
      "outputs": [
        {
          "output_type": "execute_result",
          "data": {
            "text/plain": [
              "array([[-0.5,  0.5,  0. ],\n",
              "       [ 0.5,  0.5,  0. ],\n",
              "       [-0.5,  0.5,  0. ],\n",
              "       [ 0.5,  0.5,  0. ]])"
            ]
          },
          "metadata": {},
          "execution_count": 8
        }
      ]
    },
    {
      "cell_type": "markdown",
      "source": [
        "Tercera iteracion"
      ],
      "metadata": {
        "id": "EtjwIizziu_8"
      }
    },
    {
      "cell_type": "code",
      "source": [
        "R[0,2]=np.dot(Q[:,0].T,A[:,2])\n",
        "R[1,2]=np.dot(Q[:,1].T,A[:,2])\n",
        "Q[:,2]=A[:,2]-R[0,2]*Q[:,0]-R[1,2]*Q[:,1]\n",
        "R[2,2]=np.linalg.norm(Q[:,2])\n",
        "Q[:,2]=Q[:,2]/R[2,2]"
      ],
      "metadata": {
        "id": "6NGdXWPOiZb-"
      },
      "execution_count": 9,
      "outputs": []
    },
    {
      "cell_type": "code",
      "source": [
        "Q"
      ],
      "metadata": {
        "colab": {
          "base_uri": "https://localhost:8080/"
        },
        "id": "AJ6CqHucjOF2",
        "outputId": "a8630884-b51a-46fe-c124-515671ed55c5"
      },
      "execution_count": 10,
      "outputs": [
        {
          "output_type": "execute_result",
          "data": {
            "text/plain": [
              "array([[-0.5,  0.5, -0.5],\n",
              "       [ 0.5,  0.5, -0.5],\n",
              "       [-0.5,  0.5,  0.5],\n",
              "       [ 0.5,  0.5,  0.5]])"
            ]
          },
          "metadata": {},
          "execution_count": 10
        }
      ]
    },
    {
      "cell_type": "code",
      "source": [
        "R"
      ],
      "metadata": {
        "colab": {
          "base_uri": "https://localhost:8080/"
        },
        "id": "3kb2vMiqjPOY",
        "outputId": "ff3b98a4-5c7f-49cf-ed9a-be415f236477"
      },
      "execution_count": 11,
      "outputs": [
        {
          "output_type": "execute_result",
          "data": {
            "text/plain": [
              "array([[2., 4., 2.],\n",
              "       [0., 2., 8.],\n",
              "       [0., 0., 4.]])"
            ]
          },
          "metadata": {},
          "execution_count": 11
        }
      ]
    },
    {
      "cell_type": "markdown",
      "source": [
        "j"
      ],
      "metadata": {
        "id": "SMRNTrlozfHP"
      }
    },
    {
      "cell_type": "code",
      "source": [
        "Vi=A[:,0]\n",
        "R[0,0]=np.linalg.norm(Vi)\n",
        "Q[:,0]=Vi/R[0,0]\n",
        "\n",
        "Vi=A[:,1]\n",
        "R[0,1]=np.dot(Q[:,0].T,Vi)\n",
        "Q[:,1]=Vi-R[0,1]*Q[:,0]\n",
        "R[1,1]=np.linalg.norm(Q[:,1])\n",
        "Q[:,1]=Q[:,1]/R[1,1]\n",
        "\n",
        "Vi=A[:,2]\n",
        "R[0,2]=np.dot(Q[:,0].T,Vi)\n",
        "R[1,2]=np.dot(Q[:,1].T,Vi)\n",
        "Q[:,2]=Vi-R[0,2]*Q[:,0]-R[1,2]*Q[:,1]\n",
        "R[2,2]=np.linalg.norm(Q[:,2])\n",
        "Q[:,2]=Q[:,2]/R[2,2]"
      ],
      "metadata": {
        "id": "kJaUVltujPw5"
      },
      "execution_count": null,
      "outputs": []
    },
    {
      "cell_type": "code",
      "source": [
        "n=A.shape[1]\n",
        "\n",
        "for i in range(n):\n",
        "  Vi=A[:,i]\n",
        "  for j in range(i):\n",
        "    R[j,i]=np.dot(Q[:,j].T,Vi)\n",
        "    sum=sum+R[j,i]*Q[:,j]\n",
        "  Q[:,i]=Vi-sum"
      ],
      "metadata": {
        "id": "zwsrquwu0nDi"
      },
      "execution_count": null,
      "outputs": []
    }
  ]
}