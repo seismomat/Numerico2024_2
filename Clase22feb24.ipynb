{
  "nbformat": 4,
  "nbformat_minor": 0,
  "metadata": {
    "colab": {
      "provenance": [],
      "authorship_tag": "ABX9TyMjaTfA0a82Aqs0Uf/8goD7",
      "include_colab_link": true
    },
    "kernelspec": {
      "name": "python3",
      "display_name": "Python 3"
    },
    "language_info": {
      "name": "python"
    }
  },
  "cells": [
    {
      "cell_type": "markdown",
      "metadata": {
        "id": "view-in-github",
        "colab_type": "text"
      },
      "source": [
        "<a href=\"https://colab.research.google.com/github/seismomat/Numerico2024_2/blob/main/Clase22feb24.ipynb\" target=\"_parent\"><img src=\"https://colab.research.google.com/assets/colab-badge.svg\" alt=\"Open In Colab\"/></a>"
      ]
    },
    {
      "cell_type": "markdown",
      "source": [
        "Suma de Vectores\n",
        "\n",
        "$$\\begin{bmatrix}\n",
        "a_{1} & a_{2} & a_{3} \\\\\n",
        "\\end{bmatrix} + \\begin{bmatrix}\n",
        "b_{1} & b_{2} & b_{3} \\\\\n",
        "\\end{bmatrix}$$"
      ],
      "metadata": {
        "id": "zh7hQVJaTshr"
      }
    },
    {
      "cell_type": "code",
      "source": [
        "def SumVec(a,b):\n",
        "  c=[] # lista vacia donde se guardaran los resultados\n",
        "  n=len(a) # cantidad de elementos a sumar\n",
        "\n",
        "  for i in range(n):\n",
        "    c.append(a[i]+b[i])# guardo la suma\n",
        "\n",
        "  return c"
      ],
      "metadata": {
        "id": "OJbZOxk_T617"
      },
      "execution_count": 1,
      "outputs": []
    },
    {
      "cell_type": "code",
      "source": [
        "a=[1,2,3,4,5,6,7]\n",
        "b=len(a)*[1]\n",
        "SumVec(a,b)"
      ],
      "metadata": {
        "colab": {
          "base_uri": "https://localhost:8080/"
        },
        "id": "dfoLHXkTVqcb",
        "outputId": "2629da15-496f-4e86-d3aa-86270a4c7a18"
      },
      "execution_count": 7,
      "outputs": [
        {
          "output_type": "execute_result",
          "data": {
            "text/plain": [
              "[2, 3, 4, 5, 6, 7, 8]"
            ]
          },
          "metadata": {},
          "execution_count": 7
        }
      ]
    },
    {
      "cell_type": "markdown",
      "source": [
        "Producto punto de vectores\n",
        "\n",
        "$$\\begin{bmatrix}\n",
        "a_{1} & a_{2} & a_{3} \\\\\n",
        "\\end{bmatrix} * \\begin{bmatrix}\n",
        "b_{1} & b_{2} & b_{3} \\\\\n",
        "\\end{bmatrix}$$\n",
        "\n",
        "$$\\sum_{i=1}^{n}a_{i}*b_{i}$$"
      ],
      "metadata": {
        "id": "4uVPggsSUTOT"
      }
    },
    {
      "cell_type": "code",
      "source": [
        "def ProdEsc(a,b):\n",
        "  n=len(a)\n",
        "  PE=0.0\n",
        "  for i in range(n):\n",
        "    #PE=PE+a[i]*b[i]\n",
        "    PE+=a[i]*b[i] #acumulo el resultado del producto\n",
        "                  # y lo sumo con el valor anterior\n",
        "  return PE"
      ],
      "metadata": {
        "id": "fN_5SiKDWAQQ"
      },
      "execution_count": 13,
      "outputs": []
    },
    {
      "cell_type": "code",
      "source": [
        "a=50*[1]\n",
        "b=a.copy()\n",
        "ProdEsc(a,b)"
      ],
      "metadata": {
        "colab": {
          "base_uri": "https://localhost:8080/"
        },
        "id": "Mp8ejE-0XcBZ",
        "outputId": "d2a733dd-b980-4e44-c86b-2cdce49946c1"
      },
      "execution_count": 14,
      "outputs": [
        {
          "output_type": "execute_result",
          "data": {
            "text/plain": [
              "50.0"
            ]
          },
          "metadata": {},
          "execution_count": 14
        }
      ]
    },
    {
      "cell_type": "markdown",
      "source": [
        "Suma de matrices\n",
        "\n",
        "$$\\begin{bmatrix}\n",
        "a_{11} & a_{12} & a_{13} \\\\\n",
        "a_{21} & a_{22} & a_{23} \\\\\n",
        "a_{31} & a_{32} & a_{33}\n",
        "\\end{bmatrix} + \\begin{bmatrix}\n",
        "b_{11} & b_{12} & b_{13} \\\\\n",
        "b_{21} & b_{22} & b_{23} \\\\\n",
        "b_{31} & b_{32} & b_{33}\n",
        "\\end{bmatrix}$$"
      ],
      "metadata": {
        "id": "50H8VRjPUMhW"
      }
    },
    {
      "cell_type": "code",
      "source": [
        "A=[[1,2,3],[4,5,6],[7,8,9]]\n",
        "A[0][0],A[0][1],A[0][2]"
      ],
      "metadata": {
        "colab": {
          "base_uri": "https://localhost:8080/"
        },
        "id": "bcYmhr_SUNGG",
        "outputId": "54d22ac1-c83a-4781-fc0c-c893167f6dbe"
      },
      "execution_count": 18,
      "outputs": [
        {
          "output_type": "execute_result",
          "data": {
            "text/plain": [
              "(1, 2, 3)"
            ]
          },
          "metadata": {},
          "execution_count": 18
        }
      ]
    },
    {
      "cell_type": "code",
      "source": [
        "def SumMat(A,B):\n",
        "  n=len(A) # cantidad de renglones\n",
        "  C=A.copy()\n",
        "  for i in range(n):\n",
        "    for j in range(n):\n",
        "      C[i][j]=A[i][j]+B[i][j]\n",
        "\n",
        "  return C"
      ],
      "metadata": {
        "id": "XN0MgiiZaJX9"
      },
      "execution_count": 19,
      "outputs": []
    },
    {
      "cell_type": "code",
      "source": [
        "C=[[1,1,1],[1,1,1],[1,1,1]]\n",
        "D=C.copy()\n",
        "SumMat(C,D)"
      ],
      "metadata": {
        "colab": {
          "base_uri": "https://localhost:8080/"
        },
        "id": "JbI1UE1CbVqb",
        "outputId": "2912eea3-fa23-4954-9e6f-23718c6afd89"
      },
      "execution_count": 20,
      "outputs": [
        {
          "output_type": "execute_result",
          "data": {
            "text/plain": [
              "[[2, 2, 2], [2, 2, 2], [2, 2, 2]]"
            ]
          },
          "metadata": {},
          "execution_count": 20
        }
      ]
    },
    {
      "cell_type": "markdown",
      "source": [
        "Producto de matrices\n",
        "\n",
        "$$\\begin{bmatrix}\n",
        "a_{11} & a_{12} & a_{13} \\\\\n",
        "a_{21} & a_{22} & a_{23} \\\\\n",
        "a_{31} & a_{32} & a_{33}\n",
        "\\end{bmatrix} * \\begin{bmatrix}\n",
        "b_{11} & b_{12} & b_{13} \\\\\n",
        "b_{21} & b_{22} & b_{23} \\\\\n",
        "b_{31} & b_{32} & b_{33}\n",
        "\\end{bmatrix}$$"
      ],
      "metadata": {
        "id": "IikJ7rU5Yi4G"
      }
    },
    {
      "cell_type": "code",
      "source": [],
      "metadata": {
        "id": "dP4ETSfHYmUN"
      },
      "execution_count": null,
      "outputs": []
    }
  ]
}