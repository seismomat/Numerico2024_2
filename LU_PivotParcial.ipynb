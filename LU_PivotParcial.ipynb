{
  "nbformat": 4,
  "nbformat_minor": 0,
  "metadata": {
    "colab": {
      "provenance": [],
      "authorship_tag": "ABX9TyOrzRHlmQq5JrFEBJxnPWGt",
      "include_colab_link": true
    },
    "kernelspec": {
      "name": "python3",
      "display_name": "Python 3"
    },
    "language_info": {
      "name": "python"
    }
  },
  "cells": [
    {
      "cell_type": "markdown",
      "metadata": {
        "id": "view-in-github",
        "colab_type": "text"
      },
      "source": [
        "<a href=\"https://colab.research.google.com/github/seismomat/Numerico2024_2/blob/main/LU_PivotParcial.ipynb\" target=\"_parent\"><img src=\"https://colab.research.google.com/assets/colab-badge.svg\" alt=\"Open In Colab\"/></a>"
      ]
    },
    {
      "cell_type": "code",
      "execution_count": 1,
      "metadata": {
        "id": "WTTJM0Urg5TQ"
      },
      "outputs": [],
      "source": [
        "import numpy as np"
      ]
    },
    {
      "cell_type": "code",
      "source": [
        "A=np.array([[1,2,2],[4,4,2],[4,6,4]])\n",
        "A"
      ],
      "metadata": {
        "colab": {
          "base_uri": "https://localhost:8080/"
        },
        "id": "N2RxXf2bmSCe",
        "outputId": "ff255477-3a9d-4abf-f055-64503d77f88f"
      },
      "execution_count": 2,
      "outputs": [
        {
          "output_type": "execute_result",
          "data": {
            "text/plain": [
              "array([[1, 2, 2],\n",
              "       [4, 4, 2],\n",
              "       [4, 6, 4]])"
            ]
          },
          "metadata": {},
          "execution_count": 2
        }
      ]
    },
    {
      "cell_type": "markdown",
      "source": [
        "Observacion 1"
      ],
      "metadata": {
        "id": "uojQmlI9mdGK"
      }
    },
    {
      "cell_type": "code",
      "source": [
        "B=np.copy(A)\n",
        "B[[0,2]]=B[[2,0]]\n",
        "B"
      ],
      "metadata": {
        "colab": {
          "base_uri": "https://localhost:8080/"
        },
        "id": "aXukidxMmatL",
        "outputId": "09b3079a-5a1f-4ece-a536-02e8425686f1"
      },
      "execution_count": null,
      "outputs": [
        {
          "output_type": "execute_result",
          "data": {
            "text/plain": [
              "array([[ 2, -5,  1],\n",
              "       [-1,  2, -4],\n",
              "       [ 0,  1,  1]])"
            ]
          },
          "metadata": {},
          "execution_count": 3
        }
      ]
    },
    {
      "cell_type": "markdown",
      "source": [
        "Observacion 2"
      ],
      "metadata": {
        "id": "7lUywbwJmxc5"
      }
    },
    {
      "cell_type": "code",
      "source": [
        "B[:,0]"
      ],
      "metadata": {
        "colab": {
          "base_uri": "https://localhost:8080/"
        },
        "id": "8-Rngzd1ms1q",
        "outputId": "ee56caa1-d71f-4184-e577-1d0bbc22755c"
      },
      "execution_count": null,
      "outputs": [
        {
          "output_type": "execute_result",
          "data": {
            "text/plain": [
              "array([ 2, -1,  0])"
            ]
          },
          "metadata": {},
          "execution_count": 4
        }
      ]
    },
    {
      "cell_type": "code",
      "source": [
        "np.argmax(np.abs(A[:,0]))"
      ],
      "metadata": {
        "colab": {
          "base_uri": "https://localhost:8080/"
        },
        "id": "X7zB8yHxnBMN",
        "outputId": "8bee73d0-297d-4db1-9dab-d5928a6b1f3f"
      },
      "execution_count": null,
      "outputs": [
        {
          "output_type": "execute_result",
          "data": {
            "text/plain": [
              "2"
            ]
          },
          "metadata": {},
          "execution_count": 5
        }
      ]
    },
    {
      "cell_type": "markdown",
      "source": [
        "Primera iteracion"
      ],
      "metadata": {
        "id": "1N50I5j1nTp4"
      }
    },
    {
      "cell_type": "code",
      "source": [
        "U=np.copy(A)\n",
        "Ls=[]\n",
        "Ps=[]\n",
        "k=np.argmax(np.abs(U[0:,0]))\n",
        "print(f\"k={k}\")\n",
        "L=np.eye(U.shape[0])\n",
        "P=np.eye(U.shape[0])\n",
        "U[[0,k]]=U[[k,0]]\n",
        "P[[0,k]]=P[[k,0]]\n",
        "for i in range(1,A.shape[0]):\n",
        "  L[i,0]=-U[i,0]/U[0,0]\n",
        "U=L@U\n",
        "Ls.append(np.linalg.inv(L))\n",
        "Ps.append(P)"
      ],
      "metadata": {
        "id": "gzB6KYrAnKLe",
        "outputId": "bda3c761-9130-4aec-a6e3-c4831f2eb2c2",
        "colab": {
          "base_uri": "https://localhost:8080/"
        }
      },
      "execution_count": 3,
      "outputs": [
        {
          "output_type": "stream",
          "name": "stdout",
          "text": [
            "k=1\n"
          ]
        }
      ]
    },
    {
      "cell_type": "code",
      "source": [
        "U,L"
      ],
      "metadata": {
        "id": "afBq5EctXQM3",
        "outputId": "99eb7ba5-1d00-42e2-8542-7b9c331a09ec",
        "colab": {
          "base_uri": "https://localhost:8080/"
        }
      },
      "execution_count": 4,
      "outputs": [
        {
          "output_type": "execute_result",
          "data": {
            "text/plain": [
              "(array([[4. , 4. , 2. ],\n",
              "        [0. , 1. , 1.5],\n",
              "        [0. , 2. , 2. ]]),\n",
              " array([[ 1.  ,  0.  ,  0.  ],\n",
              "        [-0.25,  1.  ,  0.  ],\n",
              "        [-1.  ,  0.  ,  1.  ]]))"
            ]
          },
          "metadata": {},
          "execution_count": 4
        }
      ]
    },
    {
      "cell_type": "markdown",
      "source": [
        "Segunda iteracion"
      ],
      "metadata": {
        "id": "lZVJkJCqonth"
      }
    },
    {
      "cell_type": "code",
      "source": [
        "k=np.argmax(np.abs(U[1:,1]))\n",
        "print(f\"k={k}\")\n",
        "P=np.eye(U.shape[0])\n",
        "U[[1,k+1]]=U[[k+1,1]]\n",
        "P[[1,k+1]]=P[[k+1,1]]\n",
        "U"
      ],
      "metadata": {
        "colab": {
          "base_uri": "https://localhost:8080/"
        },
        "id": "aYrR0EryoWBp",
        "outputId": "61e73591-ec2d-4d44-a319-1c97a962c78c"
      },
      "execution_count": 5,
      "outputs": [
        {
          "output_type": "stream",
          "name": "stdout",
          "text": [
            "k=1\n"
          ]
        },
        {
          "output_type": "execute_result",
          "data": {
            "text/plain": [
              "array([[4. , 4. , 2. ],\n",
              "       [0. , 2. , 2. ],\n",
              "       [0. , 1. , 1.5]])"
            ]
          },
          "metadata": {},
          "execution_count": 5
        }
      ]
    },
    {
      "cell_type": "code",
      "source": [
        "L=np.eye(U.shape[0])\n",
        "for i in range(2,A.shape[0]):\n",
        "  L[i,1]=-U[i,1]/U[1,1]\n",
        "\n",
        "L"
      ],
      "metadata": {
        "id": "nLJGKJ2fpCJQ",
        "outputId": "8c6d35e4-0a5f-49a5-8867-0d37a0735fb7",
        "colab": {
          "base_uri": "https://localhost:8080/"
        }
      },
      "execution_count": 6,
      "outputs": [
        {
          "output_type": "execute_result",
          "data": {
            "text/plain": [
              "array([[ 1. ,  0. ,  0. ],\n",
              "       [ 0. ,  1. ,  0. ],\n",
              "       [ 0. , -0.5,  1. ]])"
            ]
          },
          "metadata": {},
          "execution_count": 6
        }
      ]
    },
    {
      "cell_type": "code",
      "source": [
        "U=L@U\n",
        "U"
      ],
      "metadata": {
        "id": "oeFC2n6fY_Ve",
        "outputId": "6242467a-7ec9-488c-f151-152fdd531e07",
        "colab": {
          "base_uri": "https://localhost:8080/"
        }
      },
      "execution_count": 7,
      "outputs": [
        {
          "output_type": "execute_result",
          "data": {
            "text/plain": [
              "array([[4. , 4. , 2. ],\n",
              "       [0. , 2. , 2. ],\n",
              "       [0. , 0. , 0.5]])"
            ]
          },
          "metadata": {},
          "execution_count": 7
        }
      ]
    },
    {
      "cell_type": "code",
      "source": [
        "Ls.append(np.linalg.inv(L))\n",
        "Ps.append(P)"
      ],
      "metadata": {
        "id": "PEBkPP2DpuaM"
      },
      "execution_count": 8,
      "outputs": []
    },
    {
      "cell_type": "code",
      "source": [
        "Ls"
      ],
      "metadata": {
        "id": "HHtwKK46aA7K",
        "outputId": "e993a7f1-9dcc-49e3-b99d-69afee6b17aa",
        "colab": {
          "base_uri": "https://localhost:8080/"
        }
      },
      "execution_count": 9,
      "outputs": [
        {
          "output_type": "execute_result",
          "data": {
            "text/plain": [
              "[array([[1.  , 0.  , 0.  ],\n",
              "        [0.25, 1.  , 0.  ],\n",
              "        [1.  , 0.  , 1.  ]]),\n",
              " array([[1. , 0. , 0. ],\n",
              "        [0. , 1. , 0. ],\n",
              "        [0. , 0.5, 1. ]])]"
            ]
          },
          "metadata": {},
          "execution_count": 9
        }
      ]
    },
    {
      "cell_type": "code",
      "source": [
        "def LU_PartialPivot(A):\n",
        "  U=np.copy(A)\n",
        "  Ls=[]\n",
        "  Ps=[]\n",
        "\n",
        "  for j in range(U.shape[0]):\n",
        "    k=np.argmax(np.abs(U[j:,j]))+j\n",
        "    L=np.eye(U.shape[0])\n",
        "    P=np.eye(U.shape[0])\n",
        "    U[[j,k]]=U[[k,j]]\n",
        "    P[[j,k]]=P[[k,j]]\n",
        "    for i in range(j+1,U.shape[0]):\n",
        "      L[i,j]=-U[i,j]/U[j,j]\n",
        "    U=L@U\n",
        "    Ls.append(np.linalg.inv(L))\n",
        "    Ps.append(P)\n",
        "\n",
        "  return U"
      ],
      "metadata": {
        "id": "spNyC0SIpwVc"
      },
      "execution_count": 6,
      "outputs": []
    },
    {
      "cell_type": "code",
      "source": [
        "Uu=LU_PartialPivot(A)"
      ],
      "metadata": {
        "id": "JOyAff13cqhb"
      },
      "execution_count": 7,
      "outputs": []
    },
    {
      "cell_type": "code",
      "source": [
        "Uu"
      ],
      "metadata": {
        "id": "7yMwZY-tcuW7",
        "outputId": "6029e3c0-6bb9-403c-dda7-fc1a8602910d",
        "colab": {
          "base_uri": "https://localhost:8080/"
        }
      },
      "execution_count": 8,
      "outputs": [
        {
          "output_type": "execute_result",
          "data": {
            "text/plain": [
              "array([[4. , 4. , 2. ],\n",
              "       [0. , 2. , 2. ],\n",
              "       [0. , 0. , 0.5]])"
            ]
          },
          "metadata": {},
          "execution_count": 8
        }
      ]
    },
    {
      "cell_type": "code",
      "source": [],
      "metadata": {
        "id": "KYQGi8SPcvVv"
      },
      "execution_count": null,
      "outputs": []
    }
  ]
}