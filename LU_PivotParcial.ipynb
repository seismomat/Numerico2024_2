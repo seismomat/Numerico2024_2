{
  "nbformat": 4,
  "nbformat_minor": 0,
  "metadata": {
    "colab": {
      "provenance": [],
      "authorship_tag": "ABX9TyNi5JptVyvMSJ3nC1fgQQnp",
      "include_colab_link": true
    },
    "kernelspec": {
      "name": "python3",
      "display_name": "Python 3"
    },
    "language_info": {
      "name": "python"
    }
  },
  "cells": [
    {
      "cell_type": "markdown",
      "metadata": {
        "id": "view-in-github",
        "colab_type": "text"
      },
      "source": [
        "<a href=\"https://colab.research.google.com/github/seismomat/Numerico2024_2/blob/main/LU_PivotParcial.ipynb\" target=\"_parent\"><img src=\"https://colab.research.google.com/assets/colab-badge.svg\" alt=\"Open In Colab\"/></a>"
      ]
    },
    {
      "cell_type": "code",
      "execution_count": 1,
      "metadata": {
        "id": "WTTJM0Urg5TQ"
      },
      "outputs": [],
      "source": [
        "import numpy as np"
      ]
    },
    {
      "cell_type": "code",
      "source": [
        "A=np.array([[0,1,1],[-1,2,-4],[2,-5,1]])\n",
        "A"
      ],
      "metadata": {
        "colab": {
          "base_uri": "https://localhost:8080/"
        },
        "id": "N2RxXf2bmSCe",
        "outputId": "7914173c-a36b-42c0-80d6-410b235e7a2c"
      },
      "execution_count": 2,
      "outputs": [
        {
          "output_type": "execute_result",
          "data": {
            "text/plain": [
              "array([[ 0,  1,  1],\n",
              "       [-1,  2, -4],\n",
              "       [ 2, -5,  1]])"
            ]
          },
          "metadata": {},
          "execution_count": 2
        }
      ]
    },
    {
      "cell_type": "markdown",
      "source": [
        "Observacion 1"
      ],
      "metadata": {
        "id": "uojQmlI9mdGK"
      }
    },
    {
      "cell_type": "code",
      "source": [
        "B=np.copy(A)\n",
        "B[[0,2]]=B[[2,0]]\n",
        "B"
      ],
      "metadata": {
        "colab": {
          "base_uri": "https://localhost:8080/"
        },
        "id": "aXukidxMmatL",
        "outputId": "09b3079a-5a1f-4ece-a536-02e8425686f1"
      },
      "execution_count": 3,
      "outputs": [
        {
          "output_type": "execute_result",
          "data": {
            "text/plain": [
              "array([[ 2, -5,  1],\n",
              "       [-1,  2, -4],\n",
              "       [ 0,  1,  1]])"
            ]
          },
          "metadata": {},
          "execution_count": 3
        }
      ]
    },
    {
      "cell_type": "markdown",
      "source": [
        "Observacion 2"
      ],
      "metadata": {
        "id": "7lUywbwJmxc5"
      }
    },
    {
      "cell_type": "code",
      "source": [
        "B[:,0]"
      ],
      "metadata": {
        "colab": {
          "base_uri": "https://localhost:8080/"
        },
        "id": "8-Rngzd1ms1q",
        "outputId": "ee56caa1-d71f-4184-e577-1d0bbc22755c"
      },
      "execution_count": 4,
      "outputs": [
        {
          "output_type": "execute_result",
          "data": {
            "text/plain": [
              "array([ 2, -1,  0])"
            ]
          },
          "metadata": {},
          "execution_count": 4
        }
      ]
    },
    {
      "cell_type": "code",
      "source": [
        "np.argmax(np.abs(A[:,0]))"
      ],
      "metadata": {
        "colab": {
          "base_uri": "https://localhost:8080/"
        },
        "id": "X7zB8yHxnBMN",
        "outputId": "8bee73d0-297d-4db1-9dab-d5928a6b1f3f"
      },
      "execution_count": 5,
      "outputs": [
        {
          "output_type": "execute_result",
          "data": {
            "text/plain": [
              "2"
            ]
          },
          "metadata": {},
          "execution_count": 5
        }
      ]
    },
    {
      "cell_type": "markdown",
      "source": [
        "Primera iteracion"
      ],
      "metadata": {
        "id": "1N50I5j1nTp4"
      }
    },
    {
      "cell_type": "code",
      "source": [
        "U=np.copy(A)\n",
        "k=np.argmax(np.abs(U[:,0]))\n",
        "U[[0,k]]=U[[k,0]]\n",
        "L1=np.eye(A.shape[0])\n",
        "L=np.eye(U.shape[0])\n",
        "for i in range(1,A.shape[0]):\n",
        "  L[i,0]=-U[i,0]/U[0,0]\n",
        "U=L@U\n",
        "L1=L1@L"
      ],
      "metadata": {
        "id": "gzB6KYrAnKLe"
      },
      "execution_count": 3,
      "outputs": []
    },
    {
      "cell_type": "code",
      "source": [
        "U,L1"
      ],
      "metadata": {
        "colab": {
          "base_uri": "https://localhost:8080/"
        },
        "id": "AhQqIM3xnuL7",
        "outputId": "c1a5cce6-9c61-486f-b04a-bbfd1ace6789"
      },
      "execution_count": 4,
      "outputs": [
        {
          "output_type": "execute_result",
          "data": {
            "text/plain": [
              "(array([[ 2. , -5. ,  1. ],\n",
              "        [ 0. , -0.5, -3.5],\n",
              "        [ 0. ,  1. ,  1. ]]),\n",
              " array([[1. , 0. , 0. ],\n",
              "        [0.5, 1. , 0. ],\n",
              "        [0. , 0. , 1. ]]))"
            ]
          },
          "metadata": {},
          "execution_count": 4
        }
      ]
    },
    {
      "cell_type": "markdown",
      "source": [
        "Segunda iteracion"
      ],
      "metadata": {
        "id": "lZVJkJCqonth"
      }
    },
    {
      "cell_type": "code",
      "source": [
        "k=np.argmax(np.abs(U[1:,1]))\n",
        "U[[1,k+1]]=U[[k+1,1]]\n",
        "U"
      ],
      "metadata": {
        "colab": {
          "base_uri": "https://localhost:8080/"
        },
        "id": "aYrR0EryoWBp",
        "outputId": "e2c78bc1-46b4-4e33-b544-de5884523128"
      },
      "execution_count": 8,
      "outputs": [
        {
          "output_type": "execute_result",
          "data": {
            "text/plain": [
              "array([[ 2. , -5. ,  1. ],\n",
              "       [ 0. ,  1. ,  1. ],\n",
              "       [ 0. , -0.5, -3.5]])"
            ]
          },
          "metadata": {},
          "execution_count": 8
        }
      ]
    },
    {
      "cell_type": "code",
      "source": [
        "L1=np.eye(U.shape[0])\n",
        "L=np.eye(U.shape[0])\n",
        "for i in range(1,A.shape[0]):\n",
        "  L[i,0]=-U[i,0]/U[0,0]\n",
        "U=L@U\n",
        "L1=L1@L"
      ],
      "metadata": {
        "id": "nLJGKJ2fpCJQ"
      },
      "execution_count": 11,
      "outputs": []
    },
    {
      "cell_type": "code",
      "source": [
        "U,L1"
      ],
      "metadata": {
        "colab": {
          "base_uri": "https://localhost:8080/"
        },
        "id": "PEBkPP2DpuaM",
        "outputId": "cda90552-80ee-4d5f-b3e1-7669e6fc8a35"
      },
      "execution_count": 10,
      "outputs": [
        {
          "output_type": "execute_result",
          "data": {
            "text/plain": [
              "(array([[ 2. , -5. ,  1. ],\n",
              "        [ 0. ,  1. ,  1. ],\n",
              "        [ 0. , -0.5, -3.5]]),\n",
              " array([[1., 0., 0.],\n",
              "        [0., 1., 0.],\n",
              "        [0., 0., 1.]]))"
            ]
          },
          "metadata": {},
          "execution_count": 10
        }
      ]
    },
    {
      "cell_type": "code",
      "source": [],
      "metadata": {
        "id": "spNyC0SIpwVc"
      },
      "execution_count": null,
      "outputs": []
    }
  ]
}