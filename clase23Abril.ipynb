{
  "nbformat": 4,
  "nbformat_minor": 0,
  "metadata": {
    "colab": {
      "provenance": [],
      "authorship_tag": "ABX9TyM4DJkc/heOqHKLOUy/UJ/L",
      "include_colab_link": true
    },
    "kernelspec": {
      "name": "python3",
      "display_name": "Python 3"
    },
    "language_info": {
      "name": "python"
    }
  },
  "cells": [
    {
      "cell_type": "markdown",
      "metadata": {
        "id": "view-in-github",
        "colab_type": "text"
      },
      "source": [
        "<a href=\"https://colab.research.google.com/github/seismomat/Numerico2024_2/blob/main/clase23Abril.ipynb\" target=\"_parent\"><img src=\"https://colab.research.google.com/assets/colab-badge.svg\" alt=\"Open In Colab\"/></a>"
      ]
    },
    {
      "cell_type": "code",
      "execution_count": 1,
      "metadata": {
        "id": "Op8dfFSIeZup"
      },
      "outputs": [],
      "source": [
        "import numpy as np\n",
        "from numpy import linalg as LA"
      ]
    },
    {
      "cell_type": "code",
      "source": [
        "A=np.array([[-1.,-1.,1.],[1.,3.,3.],[-1.,-1.,5.]])\n",
        "A"
      ],
      "metadata": {
        "colab": {
          "base_uri": "https://localhost:8080/"
        },
        "id": "3lgJiuAtgdnH",
        "outputId": "b1531e42-4821-4697-9578-eaf5ce3143a4"
      },
      "execution_count": 2,
      "outputs": [
        {
          "output_type": "execute_result",
          "data": {
            "text/plain": [
              "array([[-1., -1.,  1.],\n",
              "       [ 1.,  3.,  3.],\n",
              "       [-1., -1.,  5.]])"
            ]
          },
          "metadata": {},
          "execution_count": 2
        }
      ]
    },
    {
      "cell_type": "code",
      "source": [
        "R=np.copy(A)\n",
        "ei=np.zeros(A.shape[0])\n",
        "ei[0]=1.\n",
        "\n",
        "x0=A[:,0]\n",
        "norm_x0=LA.norm(x0)\n",
        "\n",
        "u0=x0+np.sign(A[0,0])*norm_x0*ei\n",
        "v0=u0/LA.norm(u0)\n",
        "\n",
        "v0_c=np.reshape(v0,(-1,1))\n",
        "v_vt=v0_c@v0_c.T\n",
        "H0=np.eye(len(v0))-2.*v_vt\n",
        "Q0=H0@R\n",
        "Q0"
      ],
      "metadata": {
        "colab": {
          "base_uri": "https://localhost:8080/"
        },
        "id": "53WTds-EgmpW",
        "outputId": "2e1c7b0c-3878-4d76-ba4d-ed4a7dfacb29"
      },
      "execution_count": 22,
      "outputs": [
        {
          "output_type": "execute_result",
          "data": {
            "text/plain": [
              "array([[ 1.73205081,  2.88675135, -1.73205081],\n",
              "       [ 0.        ,  1.57735027,  4.        ],\n",
              "       [ 0.        ,  0.42264973,  4.        ]])"
            ]
          },
          "metadata": {},
          "execution_count": 22
        }
      ]
    },
    {
      "cell_type": "code",
      "source": [
        "R=np.copy(Q0)\n",
        "ei=np.zeros(Q0.shape[0])\n",
        "ei[1]=1.\n",
        "\n",
        "x0=np.zeros(Q0.shape[0])\n",
        "x0[1:]=R[:,1:]\n",
        "x0"
      ],
      "metadata": {
        "colab": {
          "base_uri": "https://localhost:8080/"
        },
        "id": "9Si_ovVng8s9",
        "outputId": "6bcc95be-3888-47b3-fcf2-30b000911618"
      },
      "execution_count": 31,
      "outputs": [
        {
          "output_type": "execute_result",
          "data": {
            "text/plain": [
              "array([[1.57735027, 4.        ],\n",
              "       [0.42264973, 4.        ]])"
            ]
          },
          "metadata": {},
          "execution_count": 31
        }
      ]
    },
    {
      "cell_type": "code",
      "source": [
        "norm_x0=LA.norm(x0)\n",
        "\n",
        "u0=x0+np.sign(A[0,0])*norm_x0*ei\n",
        "v0=u0/LA.norm(u0)\n",
        "\n",
        "v0_c=np.reshape(v0,(-1,1))\n",
        "v_vt=v0_c@v0_c.T\n",
        "H0=np.eye(len(v0))-2.*v_vt\n",
        "Q0=H0@R\n",
        "Q0"
      ],
      "metadata": {
        "id": "ShMnIYI6jmDX"
      },
      "execution_count": null,
      "outputs": []
    }
  ]
}