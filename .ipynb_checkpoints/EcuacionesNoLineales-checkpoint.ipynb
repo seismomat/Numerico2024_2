{
 "cells": [
  {
   "cell_type": "markdown",
   "metadata": {
    "colab_type": "text",
    "id": "view-in-github"
   },
   "source": [
    "<a href=\"https://colab.research.google.com/github/seismomat/Numerico2024_2/blob/main/EcuacionesNoLineales.ipynb\" target=\"_parent\"><img src=\"https://colab.research.google.com/assets/colab-badge.svg\" alt=\"Open In Colab\"/></a>"
   ]
  },
  {
   "cell_type": "code",
   "execution_count": 5,
   "metadata": {
    "id": "7mBgGZDdle0p"
   },
   "outputs": [],
   "source": [
    "import numpy as np"
   ]
  },
  {
   "cell_type": "code",
   "execution_count": 6,
   "metadata": {
    "id": "IYPw0ODlmNbD"
   },
   "outputs": [],
   "source": [
    "f=lambda x:(x**2)-1\n",
    "df= lambda x:2*x"
   ]
  },
  {
   "cell_type": "code",
   "execution_count": 7,
   "metadata": {
    "id": "exql2zc7mO_D"
   },
   "outputs": [],
   "source": [
    "def Biseccion(Tol,N,f,a,b):\n",
    "  #N es el numero de iteraciones\n",
    "  # Tol es la tolerancia\n",
    "  # f es la función a la cual se le quiere\n",
    "  # obtener las raíces\n",
    "  # a es el extremo izquierdo del intervalo\n",
    "  # b es el extremo derecho del intervalo\n",
    "\n",
    "  fa,fb=f(a),f(b)\n",
    "  if fa*fb>0.0:\n",
    "    print(\"No tiene raíces en el intervalo\")\n",
    "\n",
    "  x0=0.0\n",
    "  Iter=0\n",
    "  while Iter<=N:\n",
    "    x1=(a+b)/2.0\n",
    "    fx1=f(x1)\n",
    "    if abs(fx1)<=Tol and abs(x1-x0)<=Tol:\n",
    "      print(\"Tu raiz es \"+str(x1))\n",
    "      return x1\n",
    "\n",
    "    if fa*fx1<0:\n",
    "      b=x1\n",
    "    if fx1*fb<0:\n",
    "      a=x1\n",
    "\n",
    "    x0=x1\n",
    "    Iter+=1\n",
    "\n",
    "  else:\n",
    "    print(\"El valor aproximado de tu raiz es\"+str(x1))\n"
   ]
  },
  {
   "cell_type": "code",
   "execution_count": 8,
   "metadata": {
    "colab": {
     "base_uri": "https://localhost:8080/"
    },
    "id": "U6wA-P-hqCC9",
    "outputId": "4efa6b58-4c02-44c4-c3a9-e8eed120ccde"
   },
   "outputs": [
    {
     "name": "stdout",
     "output_type": "stream",
     "text": [
      "Tu raiz es 1.000030517578125\n"
     ]
    }
   ],
   "source": [
    "r=Biseccion(1E-4,100,f,0,1.5)"
   ]
  },
  {
   "cell_type": "code",
   "execution_count": 9,
   "metadata": {
    "id": "02i8heIDqKOK"
   },
   "outputs": [],
   "source": [
    "def ReglaFalsa(Tol,N,f,a,b):\n",
    "  #N es el numero de iteraciones\n",
    "  # Tol es la tolerancia\n",
    "  # f es la función a la cual se le quiere\n",
    "  # obtener las raíces\n",
    "  # a es el extremo izquierdo del intervalo\n",
    "  # b es el extremo derecho del intervalo\n",
    "\n",
    "  fa,fb=f(a),f(b)\n",
    "  if fa*fb>0.0:\n",
    "    print(\"No tiene raíces en el intervalo\")\n",
    "\n",
    "  x0=0.0\n",
    "  Iter=0\n",
    "  while Iter<=N:\n",
    "    x1=(a*fb-b*fa)/(fb-fa)\n",
    "    fx1=f(x1)\n",
    "    if abs(fx1)<=Tol and abs(x1-x0)<=Tol:\n",
    "      print(\"Tu raiz es \"+str(x1))\n",
    "      return x1\n",
    "\n",
    "    if fa*fx1<0:\n",
    "      b=x1\n",
    "    if fx1*fb<0:\n",
    "      a=x1\n",
    "\n",
    "    x0=x1\n",
    "    Iter+=1\n",
    "\n",
    "  else:\n",
    "    print(\"El valor aproximado de tu raiz es\"+str(x1))"
   ]
  },
  {
   "cell_type": "code",
   "execution_count": 10,
   "metadata": {
    "colab": {
     "base_uri": "https://localhost:8080/"
    },
    "id": "2fs6o7uOs9bb",
    "outputId": "86bf339a-c6a1-4f2f-c6a0-95ad5ebe1c6f"
   },
   "outputs": [
    {
     "name": "stdout",
     "output_type": "stream",
     "text": [
      "Tu raiz es 0.9999658991686936\n"
     ]
    }
   ],
   "source": [
    "r=ReglaFalsa(1E-4,100,f,0,1.5)"
   ]
  },
  {
   "cell_type": "code",
   "execution_count": 11,
   "metadata": {
    "id": "NAwX-VHKtB6a"
   },
   "outputs": [],
   "source": [
    "def Secante(Tol,N,f,a,b):\n",
    "  #N es el numero de iteraciones\n",
    "  # Tol es la tolerancia\n",
    "  # f es la función a la cual se le quiere\n",
    "  # obtener las raíces\n",
    "  # a es el extremo izquierdo del intervalo\n",
    "  # b es el extremo derecho del intervalo\n",
    "\n",
    "    fa,fb=f(a),f(b)\n",
    "    if fa*fb>0.0:\n",
    "        print(\"No tiene raíces en el intervalo\")\n",
    "\n",
    "    Iter=0\n",
    "    while Iter<=N:\n",
    "        fa,fb=f(a),f(b)\n",
    "        x1=a-(fa*(b-a)/(fb-fa))\n",
    "        fx1=f(x1)\n",
    "        if abs(fx1)<=Tol and abs(x1-x0)<=Tol:\n",
    "            print(\"Tu raiz es \"+str(x1))\n",
    "            return x1\n",
    "\n",
    "        if fa*fx1<0:\n",
    "            b=x1\n",
    "        if fx1*fb<0:\n",
    "            a=x1\n",
    "        x0=x1\n",
    "        \n",
    "        Iter+=1\n",
    "\n",
    "    else:\n",
    "        print(\"El valor aproximado de tu raiz es\"+str(x1))"
   ]
  },
  {
   "cell_type": "code",
   "execution_count": 12,
   "metadata": {},
   "outputs": [
    {
     "name": "stdout",
     "output_type": "stream",
     "text": [
      "Tu raiz es 0.9999310792981904\n"
     ]
    },
    {
     "data": {
      "text/plain": [
       "0.9999310792981904"
      ]
     },
     "execution_count": 12,
     "metadata": {},
     "output_type": "execute_result"
    }
   ],
   "source": [
    "Secante(0.001,20,f,0.3,1.5)"
   ]
  },
  {
   "cell_type": "code",
   "execution_count": 13,
   "metadata": {
    "id": "77Wvoaq6vM8W"
   },
   "outputs": [],
   "source": [
    "def Newton(f,df,Tol,N,x0):\n",
    "  Iter=0\n",
    "\n",
    "  while Iter<=N:\n",
    "    fx=f(x0)\n",
    "    dfx=df(x0)\n",
    "\n",
    "    xn = x0 - (fx/float(dfx))\n",
    "    if abs(f(xn))<=Tol and abs(xn-x0)<=Tol:\n",
    "      print(\"Tu raiz es \"+str(xn))\n",
    "      return xn\n",
    "\n",
    "    x0=xn\n",
    "\n",
    "    Iter+=1\n",
    "\n",
    "  else:\n",
    "    print(\"El valor aproximado de tu raiz es\"+str(xn))"
   ]
  },
  {
   "cell_type": "code",
   "execution_count": 14,
   "metadata": {
    "colab": {
     "base_uri": "https://localhost:8080/"
    },
    "id": "6ubjmmB3wTuj",
    "outputId": "a851c9a7-e51c-4ca2-8a53-dd76e457fa52"
   },
   "outputs": [
    {
     "name": "stdout",
     "output_type": "stream",
     "text": [
      "Tu raiz es 1.000000000000001\n"
     ]
    }
   ],
   "source": [
    "r=Newton(f,df,1E-4,100,0.5)"
   ]
  },
  {
   "cell_type": "code",
   "execution_count": 16,
   "metadata": {
    "id": "-3kobhgwwYPa"
   },
   "outputs": [],
   "source": [
    "f= lambda x: np.cos(x)-x+1\n",
    "g=lambda x: np.cos(x)+1\n",
    "# condicion inicial\n",
    "x=1.5"
   ]
  },
  {
   "cell_type": "code",
   "execution_count": 17,
   "metadata": {},
   "outputs": [],
   "source": [
    "def FixPoint(g,x0,Tol=0.0001,N=100):\n",
    "    n=1\n",
    "    while n<=N:\n",
    "        x1=g(x0)\n",
    "        if abs(x1-x0)<=Tol:\n",
    "            print(f\"EL punto fijo es {x1}\")\n",
    "            return x1\n",
    "        x0=x1\n",
    "        n+=1\n",
    "    else:\n",
    "        print(f\"Una aproximación del punto fijo es {x1}\")\n",
    "        return x1"
   ]
  },
  {
   "cell_type": "code",
   "execution_count": 18,
   "metadata": {},
   "outputs": [
    {
     "name": "stdout",
     "output_type": "stream",
     "text": [
      "Una aproximación del punto fijo es 1.2864456249325646\n"
     ]
    }
   ],
   "source": [
    "FP=FixPoint(g,1.5)"
   ]
  },
  {
   "cell_type": "code",
   "execution_count": 19,
   "metadata": {},
   "outputs": [
    {
     "data": {
      "text/plain": [
       "-0.00591133938366184"
      ]
     },
     "execution_count": 19,
     "metadata": {},
     "output_type": "execute_result"
    }
   ],
   "source": [
    "# revisando si es raiz el punto fijo\n",
    "f(FP)"
   ]
  },
  {
   "cell_type": "code",
   "execution_count": 21,
   "metadata": {},
   "outputs": [],
   "source": [
    "f= lambda x: 0.5*np.sin(x)-x+1\n",
    "g=lambda x: 0.5*np.sin(x)+1\n",
    "# condicion inicial\n",
    "x=1.5"
   ]
  },
  {
   "cell_type": "code",
   "execution_count": 22,
   "metadata": {},
   "outputs": [
    {
     "name": "stdout",
     "output_type": "stream",
     "text": [
      "EL punto fijo es 1.4987028026934108\n"
     ]
    }
   ],
   "source": [
    "FP=FixPoint(g,1.5)"
   ]
  },
  {
   "cell_type": "code",
   "execution_count": 24,
   "metadata": {},
   "outputs": [
    {
     "data": {
      "text/plain": [
       "-1.6090586005823582e-06"
      ]
     },
     "execution_count": 24,
     "metadata": {},
     "output_type": "execute_result"
    }
   ],
   "source": [
    "# revisando si es raiz el punto fijo\n",
    "f(FP)"
   ]
  },
  {
   "cell_type": "code",
   "execution_count": null,
   "metadata": {},
   "outputs": [],
   "source": []
  }
 ],
 "metadata": {
  "colab": {
   "authorship_tag": "ABX9TyOrfy4rZxDBbvi4t4XyVyl9",
   "include_colab_link": true,
   "provenance": []
  },
  "kernelspec": {
   "display_name": "Python 3 (ipykernel)",
   "language": "python",
   "name": "python3"
  },
  "language_info": {
   "codemirror_mode": {
    "name": "ipython",
    "version": 3
   },
   "file_extension": ".py",
   "mimetype": "text/x-python",
   "name": "python",
   "nbconvert_exporter": "python",
   "pygments_lexer": "ipython3",
   "version": "3.9.12"
  }
 },
 "nbformat": 4,
 "nbformat_minor": 1
}
