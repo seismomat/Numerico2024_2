{
 "cells": [
  {
   "cell_type": "markdown",
   "metadata": {
    "colab_type": "text",
    "id": "view-in-github"
   },
   "source": [
    "<a href=\"https://colab.research.google.com/github/seismomat/Numerico2024_2/blob/main/7mar24.ipynb\" target=\"_parent\"><img src=\"https://colab.research.google.com/assets/colab-badge.svg\" alt=\"Open In Colab\"/></a>"
   ]
  },
  {
   "cell_type": "code",
   "execution_count": 1,
   "metadata": {
    "id": "5Acqux5qZruF"
   },
   "outputs": [],
   "source": [
    "import numpy as np"
   ]
  },
  {
   "cell_type": "markdown",
   "metadata": {
    "id": "cGl9C4hVgEzm"
   },
   "source": [
    "$$DP[i]=DP[i]-\\frac{DI[i-1]}{DP[i-1]}DS[i-1] $$\n",
    "donde $i=1,\\dots,n$"
   ]
  },
  {
   "cell_type": "code",
   "execution_count": 8,
   "metadata": {
    "id": "FLMC2uVOZuX-"
   },
   "outputs": [],
   "source": [
    "def Thomas(DI,DP,DS):\n",
    "  #DP es la diagonal principal\n",
    "  #DS es la diagonal superior\n",
    "  #DI es la diagonal inferior\n",
    "\n",
    "  n=len(DP)\n",
    "\n",
    "  for i in range(1,n):\n",
    "    DP[i]=DP[i]-(DI[i-1]/DP[i-1])*DS[i-1]\n",
    "\n",
    "  return DP,DS"
   ]
  },
  {
   "cell_type": "code",
   "execution_count": 9,
   "metadata": {
    "id": "B3vwSaLZgtn9"
   },
   "outputs": [],
   "source": [
    "DP=2*np.ones(5)\n",
    "DS=-1*np.ones(4)\n",
    "DI=-1*np.ones(4)"
   ]
  },
  {
   "cell_type": "code",
   "execution_count": 10,
   "metadata": {
    "colab": {
     "base_uri": "https://localhost:8080/"
    },
    "id": "pjFxbEjyhF6v",
    "outputId": "8c3d82bc-7f57-417c-8de6-3371b06b24e1"
   },
   "outputs": [
    {
     "data": {
      "text/plain": [
       "(array([2.        , 1.5       , 1.33333333, 1.25      , 1.2       ]),\n",
       " array([-1., -1., -1., -1.]))"
      ]
     },
     "execution_count": 10,
     "metadata": {},
     "output_type": "execute_result"
    }
   ],
   "source": [
    "Thomas(DI,DP,DS)"
   ]
  },
  {
   "cell_type": "code",
   "execution_count": null,
   "metadata": {
    "id": "7rFaHtSlhp9U"
   },
   "outputs": [],
   "source": []
  }
 ],
 "metadata": {
  "colab": {
   "authorship_tag": "ABX9TyOdO+pJQAIbFDTdeiYNTtS3",
   "include_colab_link": true,
   "provenance": []
  },
  "kernelspec": {
   "display_name": "Python 3 (ipykernel)",
   "language": "python",
   "name": "python3"
  },
  "language_info": {
   "codemirror_mode": {
    "name": "ipython",
    "version": 3
   },
   "file_extension": ".py",
   "mimetype": "text/x-python",
   "name": "python",
   "nbconvert_exporter": "python",
   "pygments_lexer": "ipython3",
   "version": "3.9.12"
  }
 },
 "nbformat": 4,
 "nbformat_minor": 1
}
