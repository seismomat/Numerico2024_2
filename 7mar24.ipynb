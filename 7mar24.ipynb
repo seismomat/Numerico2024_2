{
  "nbformat": 4,
  "nbformat_minor": 0,
  "metadata": {
    "colab": {
      "provenance": [],
      "authorship_tag": "ABX9TyOdO+pJQAIbFDTdeiYNTtS3",
      "include_colab_link": true
    },
    "kernelspec": {
      "name": "python3",
      "display_name": "Python 3"
    },
    "language_info": {
      "name": "python"
    }
  },
  "cells": [
    {
      "cell_type": "markdown",
      "metadata": {
        "id": "view-in-github",
        "colab_type": "text"
      },
      "source": [
        "<a href=\"https://colab.research.google.com/github/seismomat/Numerico2024_2/blob/main/7mar24.ipynb\" target=\"_parent\"><img src=\"https://colab.research.google.com/assets/colab-badge.svg\" alt=\"Open In Colab\"/></a>"
      ]
    },
    {
      "cell_type": "code",
      "execution_count": 1,
      "metadata": {
        "id": "5Acqux5qZruF"
      },
      "outputs": [],
      "source": [
        "import numpy as np"
      ]
    },
    {
      "cell_type": "markdown",
      "source": [
        "$$DP[i]=DP[i]-\\frac{DI[i-1]}{DP[i-1]}DS[i-1] $$\n",
        "donde $i=1,\\dots,n$"
      ],
      "metadata": {
        "id": "cGl9C4hVgEzm"
      }
    },
    {
      "cell_type": "code",
      "source": [
        "def Thomas(DI,DP,DS):\n",
        "  #DP es la diagonal principal\n",
        "  #DS es la diagonal superior\n",
        "  #DI es la diagonal inferior\n",
        "\n",
        "  n=len(DP)\n",
        "\n",
        "  for i in range(1,n):\n",
        "    DP[i]=DP[i]-(DI[i-1]/DP[i-1])*DS[i-1]\n",
        "\n",
        "  return DP,DS"
      ],
      "metadata": {
        "id": "FLMC2uVOZuX-"
      },
      "execution_count": 8,
      "outputs": []
    },
    {
      "cell_type": "code",
      "source": [
        "DP=2*np.ones(5)\n",
        "DS=-1*np.ones(4)\n",
        "DI=-1*np.ones(4)"
      ],
      "metadata": {
        "id": "B3vwSaLZgtn9"
      },
      "execution_count": 9,
      "outputs": []
    },
    {
      "cell_type": "code",
      "source": [
        "Thomas(DI,DP,DS)"
      ],
      "metadata": {
        "colab": {
          "base_uri": "https://localhost:8080/"
        },
        "id": "pjFxbEjyhF6v",
        "outputId": "8c3d82bc-7f57-417c-8de6-3371b06b24e1"
      },
      "execution_count": 10,
      "outputs": [
        {
          "output_type": "execute_result",
          "data": {
            "text/plain": [
              "(array([2.        , 1.5       , 1.33333333, 1.25      , 1.2       ]),\n",
              " array([-1., -1., -1., -1.]))"
            ]
          },
          "metadata": {},
          "execution_count": 10
        }
      ]
    },
    {
      "cell_type": "code",
      "source": [],
      "metadata": {
        "id": "7rFaHtSlhp9U"
      },
      "execution_count": null,
      "outputs": []
    }
  ]
}