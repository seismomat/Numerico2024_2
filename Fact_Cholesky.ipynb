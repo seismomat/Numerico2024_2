{
  "nbformat": 4,
  "nbformat_minor": 0,
  "metadata": {
    "colab": {
      "provenance": [],
      "authorship_tag": "ABX9TyPgVeYZNp4/OPNs0YQbT0Zf",
      "include_colab_link": true
    },
    "kernelspec": {
      "name": "python3",
      "display_name": "Python 3"
    },
    "language_info": {
      "name": "python"
    }
  },
  "cells": [
    {
      "cell_type": "markdown",
      "metadata": {
        "id": "view-in-github",
        "colab_type": "text"
      },
      "source": [
        "<a href=\"https://colab.research.google.com/github/seismomat/Numerico2024_2/blob/main/Fact_Cholesky.ipynb\" target=\"_parent\"><img src=\"https://colab.research.google.com/assets/colab-badge.svg\" alt=\"Open In Colab\"/></a>"
      ]
    },
    {
      "cell_type": "code",
      "execution_count": null,
      "metadata": {
        "id": "C5tirBMmMcIP"
      },
      "outputs": [],
      "source": [
        "import numpy as np\n",
        "# Se define la matriz A\n",
        "A = np.array([[6.0,15.0,55.0],[15.0,55.0,225.0],[55.0,225.0,979.0]])"
      ]
    },
    {
      "cell_type": "code",
      "source": [
        "import numpy as np\n",
        "\n",
        "def Cholesky(A):\n",
        "    \"\"\"\n",
        "    Realiza la descomposición de Cholesky de una matriz simétrica y definida positiva.\n",
        "\n",
        "    La descomposición de Cholesky descompone una matriz \\( A \\) en el producto de una matriz triangular inferior \\( L \\) y su traspuesta: \\( A = L \\cdot L^T \\).\n",
        "\n",
        "    Parámetros:\n",
        "    ----------\n",
        "    A : numpy.ndarray\n",
        "        Matriz cuadrada de tamaño \\( n \\times n \\). Debe ser simétrica y definida positiva.\n",
        "\n",
        "    Retorna:\n",
        "    -------\n",
        "    L : numpy.ndarray\n",
        "        Matriz triangular inferior \\( L \\) de tamaño \\( n \\times n \\) tal que \\( A = L \\cdot L^T \\).\n",
        "\n",
        "    Ejemplo:\n",
        "    --------\n",
        "    >>> A = np.array([[4, 12, -16], [12, 37, -43], [-16, -43, 98]])\n",
        "    >>> L = Cholesky(A)\n",
        "    >>> print(L)\n",
        "    [[ 2.  0.  0.]\n",
        "     [ 6.  1.  0.]\n",
        "     [-8.  5.  3.]]\n",
        "\n",
        "    Notas:\n",
        "    ------\n",
        "    - La matriz \\( A \\) debe ser simétrica y definida positiva para que la descomposición\n",
        "       de Cholesky sea válida.\n",
        "    - Esta implementación no verifica si la matriz es simétrica o definida positiva.\n",
        "    Es responsabilidad del usuario asegurarse de que los datos de entrada cumplan con estos requisitos.\n",
        "\n",
        "    \"\"\"\n",
        "\n",
        "    n = A.shape[0]\n",
        "    L = np.zeros_like(A)\n",
        "\n",
        "    for k in range(n):\n",
        "        for i in range(k + 1):\n",
        "            if k == i:\n",
        "                sum = 0.0\n",
        "                for j in range(k):\n",
        "                    sum += L[k][j] * L[k][j]\n",
        "                L[k][k] = np.sqrt(A[k][k] - sum)\n",
        "\n",
        "            else:\n",
        "                sum = 0.0\n",
        "                for j in range(i):\n",
        "                    sum += L[i][j] * L[k][j]\n",
        "                L[k][i] = (A[k][i] - sum) / L[i][i]\n",
        "\n",
        "    return L\n"
      ],
      "metadata": {
        "id": "25845gunMiH9"
      },
      "execution_count": null,
      "outputs": []
    },
    {
      "cell_type": "code",
      "source": [
        "#aplicamos la descomposicion de Cholesky\n",
        "Cholesky(A)"
      ],
      "metadata": {
        "colab": {
          "base_uri": "https://localhost:8080/"
        },
        "id": "qwXlm_huMyRF",
        "outputId": "8a49e988-fad7-4d2d-9207-d77bd650f069"
      },
      "execution_count": null,
      "outputs": [
        {
          "output_type": "execute_result",
          "data": {
            "text/plain": [
              "array([[ 2.44948974,  0.        ,  0.        ],\n",
              "       [ 6.12372436,  4.18330013,  0.        ],\n",
              "       [22.45365598, 20.91650066,  6.11010093]])"
            ]
          },
          "metadata": {},
          "execution_count": 3
        }
      ]
    },
    {
      "cell_type": "markdown",
      "source": [
        "Validando con Nympy"
      ],
      "metadata": {
        "id": "GrXl7Q7qN8Rl"
      }
    },
    {
      "cell_type": "code",
      "source": [
        "L_num = np.linalg.cholesky(A)\n",
        "# Se imprimen ambas matrices\n",
        "print(L_num)"
      ],
      "metadata": {
        "id": "IJIDOuF3M4pc"
      },
      "execution_count": null,
      "outputs": []
    }
  ]
}