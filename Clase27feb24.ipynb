{
  "nbformat": 4,
  "nbformat_minor": 0,
  "metadata": {
    "colab": {
      "provenance": [],
      "authorship_tag": "ABX9TyP07LHAUBdPxkPEYYGoF/fN",
      "include_colab_link": true
    },
    "kernelspec": {
      "name": "python3",
      "display_name": "Python 3"
    },
    "language_info": {
      "name": "python"
    }
  },
  "cells": [
    {
      "cell_type": "markdown",
      "metadata": {
        "id": "view-in-github",
        "colab_type": "text"
      },
      "source": [
        "<a href=\"https://colab.research.google.com/github/seismomat/Numerico2024_2/blob/main/Clase27feb24.ipynb\" target=\"_parent\"><img src=\"https://colab.research.google.com/assets/colab-badge.svg\" alt=\"Open In Colab\"/></a>"
      ]
    },
    {
      "cell_type": "code",
      "execution_count": 2,
      "metadata": {
        "id": "XPQLp1ZBGJTG"
      },
      "outputs": [],
      "source": [
        "import numpy as np"
      ]
    },
    {
      "cell_type": "code",
      "source": [
        "A=np.array([[1,1,1],[1,1,1],[1,1,1]])\n",
        "B=np.array([[1,1,1],[1,1,1],[1,1,1]])"
      ],
      "metadata": {
        "id": "M5-bSv-MITTt"
      },
      "execution_count": null,
      "outputs": []
    },
    {
      "cell_type": "code",
      "source": [
        "def MatMult(A,B):\n",
        "  n=len(A)# cantidad de renglones de A\n",
        "  C=np.zeros_like(A)\n",
        "  for i in range(n):\n",
        "    for j in range(n):\n",
        "      for k in range(n):\n",
        "        C[i][j]+=A[i][k]*B[k][j]\n",
        "\n",
        "  return C"
      ],
      "metadata": {
        "id": "hKCjSOwAH2Pe"
      },
      "execution_count": 5,
      "outputs": []
    },
    {
      "cell_type": "code",
      "source": [
        "MatMult(A,B)"
      ],
      "metadata": {
        "colab": {
          "base_uri": "https://localhost:8080/"
        },
        "id": "srhzBuw2I_1h",
        "outputId": "76fdb296-c8e6-42be-fa23-e8a78bb2f793"
      },
      "execution_count": 6,
      "outputs": [
        {
          "output_type": "execute_result",
          "data": {
            "text/plain": [
              "array([[3, 3, 3],\n",
              "       [3, 3, 3],\n",
              "       [3, 3, 3]])"
            ]
          },
          "metadata": {},
          "execution_count": 6
        }
      ]
    },
    {
      "cell_type": "code",
      "source": [
        "def SolveSystemMatDiag(A,b):\n",
        "  x=np.zeros_like(b)\n",
        "  n=len(b)\n",
        "  for i in range(n):\n",
        "    x[i]=b[i]/A[i][i]\n",
        "  return x"
      ],
      "metadata": {
        "id": "uZtpWcfeJEbl"
      },
      "execution_count": 7,
      "outputs": []
    },
    {
      "cell_type": "code",
      "source": [
        "A=5*np.eye(10,10)\n",
        "b=np.ones(10)\n",
        "SolveSystemMatDiag(A,b)"
      ],
      "metadata": {
        "colab": {
          "base_uri": "https://localhost:8080/"
        },
        "id": "KcqsTT4aLJtJ",
        "outputId": "636582d9-8907-4c79-e195-a460a9ef18d3"
      },
      "execution_count": 10,
      "outputs": [
        {
          "output_type": "execute_result",
          "data": {
            "text/plain": [
              "array([0.2, 0.2, 0.2, 0.2, 0.2, 0.2, 0.2, 0.2, 0.2, 0.2])"
            ]
          },
          "metadata": {},
          "execution_count": 10
        }
      ]
    },
    {
      "cell_type": "code",
      "source": [],
      "metadata": {
        "id": "i1530jekMFi_"
      },
      "execution_count": null,
      "outputs": []
    }
  ]
}