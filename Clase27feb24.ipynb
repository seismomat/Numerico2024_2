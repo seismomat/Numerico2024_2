{
  "nbformat": 4,
  "nbformat_minor": 0,
  "metadata": {
    "colab": {
      "provenance": [],
      "authorship_tag": "ABX9TyM6S0ZDw8lHmh12Nlp6WR/1",
      "include_colab_link": true
    },
    "kernelspec": {
      "name": "python3",
      "display_name": "Python 3"
    },
    "language_info": {
      "name": "python"
    }
  },
  "cells": [
    {
      "cell_type": "markdown",
      "metadata": {
        "id": "view-in-github",
        "colab_type": "text"
      },
      "source": [
        "<a href=\"https://colab.research.google.com/github/seismomat/Numerico2024_2/blob/main/Clase27feb24.ipynb\" target=\"_parent\"><img src=\"https://colab.research.google.com/assets/colab-badge.svg\" alt=\"Open In Colab\"/></a>"
      ]
    },
    {
      "cell_type": "code",
      "execution_count": 2,
      "metadata": {
        "id": "XPQLp1ZBGJTG"
      },
      "outputs": [],
      "source": [
        "import numpy as np"
      ]
    },
    {
      "cell_type": "code",
      "source": [
        "A=np.array([[1,1,1],[1,1,1],[1,1,1]])\n",
        "B=np.array([[1,1,1],[1,1,1],[1,1,1]])"
      ],
      "metadata": {
        "id": "M5-bSv-MITTt"
      },
      "execution_count": null,
      "outputs": []
    },
    {
      "cell_type": "code",
      "source": [
        "def MatMult(A,B):\n",
        "  n=len(A)# cantidad de renglones de A\n",
        "  C=np.zeros_like(A)\n",
        "  for i in range(n):\n",
        "    for j in range(n):\n",
        "      for k in range(n):\n",
        "        C[i][j]+=A[i][k]*B[k][j]\n",
        "\n",
        "  return C"
      ],
      "metadata": {
        "id": "hKCjSOwAH2Pe"
      },
      "execution_count": null,
      "outputs": []
    },
    {
      "cell_type": "code",
      "source": [
        "MatMult(A,B)"
      ],
      "metadata": {
        "colab": {
          "base_uri": "https://localhost:8080/"
        },
        "id": "srhzBuw2I_1h",
        "outputId": "76fdb296-c8e6-42be-fa23-e8a78bb2f793"
      },
      "execution_count": null,
      "outputs": [
        {
          "output_type": "execute_result",
          "data": {
            "text/plain": [
              "array([[3, 3, 3],\n",
              "       [3, 3, 3],\n",
              "       [3, 3, 3]])"
            ]
          },
          "metadata": {},
          "execution_count": 6
        }
      ]
    },
    {
      "cell_type": "code",
      "source": [
        "def SolveSystemMatDiag(A,b):\n",
        "  x=np.zeros_like(b)\n",
        "  n=len(b)\n",
        "  for i in range(n):\n",
        "    x[i]=b[i]/A[i][i]\n",
        "  return x"
      ],
      "metadata": {
        "id": "uZtpWcfeJEbl"
      },
      "execution_count": null,
      "outputs": []
    },
    {
      "cell_type": "code",
      "source": [
        "A=5*np.eye(10,10)\n",
        "b=np.ones(10)\n",
        "SolveSystemMatDiag(A,b)"
      ],
      "metadata": {
        "colab": {
          "base_uri": "https://localhost:8080/"
        },
        "id": "KcqsTT4aLJtJ",
        "outputId": "636582d9-8907-4c79-e195-a460a9ef18d3"
      },
      "execution_count": null,
      "outputs": [
        {
          "output_type": "execute_result",
          "data": {
            "text/plain": [
              "array([0.2, 0.2, 0.2, 0.2, 0.2, 0.2, 0.2, 0.2, 0.2, 0.2])"
            ]
          },
          "metadata": {},
          "execution_count": 10
        }
      ]
    },
    {
      "cell_type": "markdown",
      "source": [
        "$$x_{i}=(b_{i}-\\sum_{j=0}^{i-1}A_{ij}x_{j})/A_{ii}$$"
      ],
      "metadata": {
        "id": "-ImXFdLPJ7q7"
      }
    },
    {
      "cell_type": "code",
      "source": [
        "def SustDelante(A,b):\n",
        "  x=np.zeros_like(b)\n",
        "  n=len(A)\n",
        "  for i in range(n):\n",
        "    sum=0.0\n",
        "    for j in range(i):\n",
        "      # sumando desde j=0 hasta i-1 de Aij*xj\n",
        "      sum+= A[i][j]*x[j]\n",
        "    #bi- sumando dividido por Aii\n",
        "    x[i]=(b[i]-sum)/A[i][i]\n",
        "\n",
        "  return x"
      ],
      "metadata": {
        "id": "i1530jekMFi_"
      },
      "execution_count": 7,
      "outputs": []
    },
    {
      "cell_type": "code",
      "source": [
        "A=np.array([[1.0,0.0,0.0,0.0],[1.0,1.0,0.0,0.0],[1.0,1.0,1.0,0.0],[1.0,1.0,1.0,1.0]])\n",
        "A"
      ],
      "metadata": {
        "colab": {
          "base_uri": "https://localhost:8080/"
        },
        "id": "QaVE2Zo2Kuz0",
        "outputId": "792fc72a-afae-4e9a-f07c-8f18fc08bab0"
      },
      "execution_count": 8,
      "outputs": [
        {
          "output_type": "execute_result",
          "data": {
            "text/plain": [
              "array([[1., 0., 0., 0.],\n",
              "       [1., 1., 0., 0.],\n",
              "       [1., 1., 1., 0.],\n",
              "       [1., 1., 1., 1.]])"
            ]
          },
          "metadata": {},
          "execution_count": 8
        }
      ]
    },
    {
      "cell_type": "code",
      "source": [
        "b=np.ones(4)"
      ],
      "metadata": {
        "id": "VsB3mFvuLFSM"
      },
      "execution_count": 9,
      "outputs": []
    },
    {
      "cell_type": "code",
      "source": [
        "SustDelante(A,b)"
      ],
      "metadata": {
        "colab": {
          "base_uri": "https://localhost:8080/"
        },
        "id": "hZa1It6nLJOQ",
        "outputId": "619bb952-1903-471f-b638-c0e9d8853d36"
      },
      "execution_count": 10,
      "outputs": [
        {
          "output_type": "execute_result",
          "data": {
            "text/plain": [
              "array([1., 0., 0., 0.])"
            ]
          },
          "metadata": {},
          "execution_count": 10
        }
      ]
    },
    {
      "cell_type": "code",
      "source": [
        "np.linalg.solve(A,b) # paqueteria de Python"
      ],
      "metadata": {
        "colab": {
          "base_uri": "https://localhost:8080/"
        },
        "id": "LVyJa3G-LMbZ",
        "outputId": "b26dc03f-878b-49ef-d216-a075f0f9e09d"
      },
      "execution_count": 12,
      "outputs": [
        {
          "output_type": "execute_result",
          "data": {
            "text/plain": [
              "array([1., 0., 0., 0.])"
            ]
          },
          "metadata": {},
          "execution_count": 12
        }
      ]
    },
    {
      "cell_type": "markdown",
      "source": [
        "$$x_{i}=\\frac{b_{i}-\\sum_{j=i+1}^{n-1}A_{ij}x_{j}}{A_{ii}}$$\n",
        "\n",
        "donde $i=n-1,...,0$"
      ],
      "metadata": {
        "id": "cvtRmvPwPGfk"
      }
    },
    {
      "cell_type": "code",
      "source": [
        "def SustAtras(A,b):\n",
        "  x=np.zeros_like(b)\n",
        "  n=len(A)\n",
        "\n",
        "  for i in range(n-1,0,-1):\n",
        "    sum=0.0\n",
        "    for j in range(i+1,n):\n",
        "      sum+=A[i][j]*x[j]\n",
        "    x[i]=(b[i]-sum)/A[i][i]\n",
        "  return x"
      ],
      "metadata": {
        "id": "ONO0aDzxLqug"
      },
      "execution_count": 16,
      "outputs": []
    },
    {
      "cell_type": "code",
      "source": [
        "A=np.array([[1.0,1.0,1.0,1.0],[0.0,1.0,1.0,1.0],[0.0,0.0,1.0,1.0],[0.0,0.0,0.0,1.0]])\n",
        "A"
      ],
      "metadata": {
        "colab": {
          "base_uri": "https://localhost:8080/"
        },
        "id": "2gWusbcZPvxa",
        "outputId": "b605f68b-80d4-4b49-daf3-a2413cd94031"
      },
      "execution_count": 17,
      "outputs": [
        {
          "output_type": "execute_result",
          "data": {
            "text/plain": [
              "array([[1., 1., 1., 1.],\n",
              "       [0., 1., 1., 1.],\n",
              "       [0., 0., 1., 1.],\n",
              "       [0., 0., 0., 1.]])"
            ]
          },
          "metadata": {},
          "execution_count": 17
        }
      ]
    },
    {
      "cell_type": "code",
      "source": [
        "b=np.ones(4)"
      ],
      "metadata": {
        "id": "O7nI9avLP2ek"
      },
      "execution_count": 18,
      "outputs": []
    },
    {
      "cell_type": "code",
      "source": [
        "SustAtras(A,b)"
      ],
      "metadata": {
        "colab": {
          "base_uri": "https://localhost:8080/"
        },
        "id": "-SNdEWA4QtHB",
        "outputId": "c450997c-71e9-4584-e00d-2073b550703c"
      },
      "execution_count": 20,
      "outputs": [
        {
          "output_type": "execute_result",
          "data": {
            "text/plain": [
              "array([0., 0., 0., 1.])"
            ]
          },
          "metadata": {},
          "execution_count": 20
        }
      ]
    },
    {
      "cell_type": "code",
      "source": [
        "np.linalg.solve(A,b) # paqueteria de Python"
      ],
      "metadata": {
        "colab": {
          "base_uri": "https://localhost:8080/"
        },
        "id": "EDIGVycdQwt4",
        "outputId": "5c8e86fc-09d5-40d4-b729-7c74ce177c6f"
      },
      "execution_count": 19,
      "outputs": [
        {
          "output_type": "execute_result",
          "data": {
            "text/plain": [
              "array([0., 0., 0., 1.])"
            ]
          },
          "metadata": {},
          "execution_count": 19
        }
      ]
    },
    {
      "cell_type": "code",
      "source": [],
      "metadata": {
        "id": "ux7Er8jNQxOg"
      },
      "execution_count": null,
      "outputs": []
    }
  ]
}