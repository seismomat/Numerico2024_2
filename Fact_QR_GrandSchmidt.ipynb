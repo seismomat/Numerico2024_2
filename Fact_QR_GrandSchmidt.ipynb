{
  "nbformat": 4,
  "nbformat_minor": 0,
  "metadata": {
    "colab": {
      "provenance": [],
      "include_colab_link": true
    },
    "kernelspec": {
      "name": "python3",
      "display_name": "Python 3"
    },
    "language_info": {
      "name": "python"
    }
  },
  "cells": [
    {
      "cell_type": "markdown",
      "metadata": {
        "id": "view-in-github",
        "colab_type": "text"
      },
      "source": [
        "<a href=\"https://colab.research.google.com/github/seismomat/Numerico2024_2/blob/main/Fact_QR_GrandSchmidt.ipynb\" target=\"_parent\"><img src=\"https://colab.research.google.com/assets/colab-badge.svg\" alt=\"Open In Colab\"/></a>"
      ]
    },
    {
      "cell_type": "code",
      "execution_count": null,
      "metadata": {
        "id": "zbOPttiejZgB"
      },
      "outputs": [],
      "source": [
        "import numpy as np"
      ]
    },
    {
      "cell_type": "code",
      "source": [
        "def QR(A):\n",
        "  Q=np.empty_like(A) ## matriz Q\n",
        "  R=np.zeros([A.shape[1],A.shape[1]]) ## matriz cuadrada\n",
        "  vi=np.zeros([A.shape[1]])\n",
        "\n",
        "  for i in range(A.shape[1]):\n",
        "    vi=A[:,i]\n",
        "    for j in range(i):\n",
        "      R[j,i]=np.dot(Q[:,j].T,vi)\n",
        "      vi = vi - R[j,i]*Q[:,j]\n",
        "      #vi = a2 - (q1T, a2)* q1\n",
        "    R[i,i]=np.linalg.norm(vi,2)\n",
        "    Q[:,i]=vi/R[i,i]\n",
        "\n",
        "  return Q,R\n"
      ],
      "metadata": {
        "id": "BnZgNtcXji55"
      },
      "execution_count": null,
      "outputs": []
    },
    {
      "cell_type": "code",
      "source": [
        "# matriz a que se quiere aplicar factorizacion QR\n",
        "A = np.array([[-1.0,-1.0,1.0],[1.0,3.0,3.0],[-1.0,-1.0,5.0],[1.0,3.0,7.0]])\n",
        "A"
      ],
      "metadata": {
        "colab": {
          "base_uri": "https://localhost:8080/"
        },
        "id": "hNESsMHwk6dM",
        "outputId": "b3b0a434-2ccc-4d42-e30b-da2383bb8c74"
      },
      "execution_count": null,
      "outputs": [
        {
          "output_type": "execute_result",
          "data": {
            "text/plain": [
              "array([[-1., -1.,  1.],\n",
              "       [ 1.,  3.,  3.],\n",
              "       [-1., -1.,  5.],\n",
              "       [ 1.,  3.,  7.]])"
            ]
          },
          "metadata": {},
          "execution_count": 8
        }
      ]
    },
    {
      "cell_type": "code",
      "source": [
        "Q,R=QR(A)\n",
        "# mostrar ambas matrices\n",
        "print(Q)\n",
        "print(R)\n",
        "\n",
        "# comprobacion\n",
        "print(np.matmul(Q,R))"
      ],
      "metadata": {
        "colab": {
          "base_uri": "https://localhost:8080/"
        },
        "id": "H88CDbMglbUm",
        "outputId": "1d9300ae-4184-4a2e-fffe-2e7cdc36ec95"
      },
      "execution_count": null,
      "outputs": [
        {
          "output_type": "stream",
          "name": "stdout",
          "text": [
            "[[-0.5  0.5 -0.5]\n",
            " [ 0.5  0.5 -0.5]\n",
            " [-0.5  0.5  0.5]\n",
            " [ 0.5  0.5  0.5]]\n",
            "[[2. 4. 2.]\n",
            " [0. 2. 8.]\n",
            " [0. 0. 4.]]\n",
            "[[-1. -1.  1.]\n",
            " [ 1.  3.  3.]\n",
            " [-1. -1.  5.]\n",
            " [ 1.  3.  7.]]\n"
          ]
        }
      ]
    },
    {
      "cell_type": "code",
      "source": [
        "# funcion de numpy encargada de la factorizacion QR\n",
        "Q1,R1 = np.linalg.qr(A)\n",
        "\n",
        "# mostrar ambas matrices\n",
        "print(Q1)\n",
        "print(R1)\n",
        "\n",
        "# comprobacion\n",
        "print(np.matmul(Q1,R1))"
      ],
      "metadata": {
        "colab": {
          "base_uri": "https://localhost:8080/"
        },
        "id": "50j6-TODlez8",
        "outputId": "62a319b2-c800-483f-a322-a9b6870029a3"
      },
      "execution_count": null,
      "outputs": [
        {
          "output_type": "stream",
          "name": "stdout",
          "text": [
            "[[-0.5 -0.5  0.5]\n",
            " [ 0.5 -0.5  0.5]\n",
            " [-0.5 -0.5 -0.5]\n",
            " [ 0.5 -0.5 -0.5]]\n",
            "[[ 2.  4.  2.]\n",
            " [ 0. -2. -8.]\n",
            " [ 0.  0. -4.]]\n",
            "[[-1. -1.  1.]\n",
            " [ 1.  3.  3.]\n",
            " [-1. -1.  5.]\n",
            " [ 1.  3.  7.]]\n"
          ]
        }
      ]
    },
    {
      "cell_type": "code",
      "source": [],
      "metadata": {
        "id": "SG24rBbplfb1"
      },
      "execution_count": null,
      "outputs": []
    }
  ]
}