{
  "nbformat": 4,
  "nbformat_minor": 0,
  "metadata": {
    "colab": {
      "provenance": [],
      "authorship_tag": "ABX9TyN1UGXd63JiRF4jV019udNu",
      "include_colab_link": true
    },
    "kernelspec": {
      "name": "python3",
      "display_name": "Python 3"
    },
    "language_info": {
      "name": "python"
    }
  },
  "cells": [
    {
      "cell_type": "markdown",
      "metadata": {
        "id": "view-in-github",
        "colab_type": "text"
      },
      "source": [
        "<a href=\"https://colab.research.google.com/github/seismomat/Numerico2024_2/blob/main/Clase11Abril24.ipynb\" target=\"_parent\"><img src=\"https://colab.research.google.com/assets/colab-badge.svg\" alt=\"Open In Colab\"/></a>"
      ]
    },
    {
      "cell_type": "code",
      "execution_count": null,
      "metadata": {
        "id": "qT9JnbPcwA7Q"
      },
      "outputs": [],
      "source": [
        "import numpy as np"
      ]
    },
    {
      "cell_type": "code",
      "source": [
        "A=np.array([[6.0,15.0,55.0],[15.0,55.0,225.0],[55.0,225.0,979.0]])\n",
        "A"
      ],
      "metadata": {
        "colab": {
          "base_uri": "https://localhost:8080/"
        },
        "id": "Tc63dVC4wFg9",
        "outputId": "8c0673f1-4378-495d-c244-4774ec694882"
      },
      "execution_count": null,
      "outputs": [
        {
          "output_type": "execute_result",
          "data": {
            "text/plain": [
              "array([[  6.,  15.,  55.],\n",
              "       [ 15.,  55., 225.],\n",
              "       [ 55., 225., 979.]])"
            ]
          },
          "metadata": {},
          "execution_count": 3
        }
      ]
    },
    {
      "cell_type": "code",
      "source": [
        "def Cholesky(A):\n",
        "  n=len(A)\n",
        "  L=np.zeros_like(A) # crea una matruz de ceros\n",
        "\n",
        "  for j in range(n):\n",
        "    for i in range(j,n):\n",
        "      if j==i:\n",
        "        l_jk=0.0\n",
        "        for k in range(j):\n",
        "          l_jk+=L[j][k]**2\n",
        "        L[j][j]=np.sqrt(A[j][j]-l_jk)\n",
        "      else:\n",
        "        l_ik_jk=0.0\n",
        "        for k in range(j):\n",
        "          l_ik_jk+=L[i][k]*L[j][k]\n",
        "        L[j][j]=(A[i][j]-l_ik_jk)/L[j][j]\n"
      ],
      "metadata": {
        "id": "Rl2rs_6_wPnN"
      },
      "execution_count": null,
      "outputs": []
    }
  ]
}