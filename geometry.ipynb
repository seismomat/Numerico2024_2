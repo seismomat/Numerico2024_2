{
 "cells": [
  {
   "cell_type": "code",
   "execution_count": 1,
   "id": "e10249cb",
   "metadata": {},
   "outputs": [],
   "source": [
    "import numpy as np\n",
    "from numpy import linalg as la\n",
    "from matplotlib import pyplot as plt"
   ]
  },
  {
   "cell_type": "code",
   "execution_count": 2,
   "id": "a32d4bf2",
   "metadata": {},
   "outputs": [],
   "source": [
    "class topography:\n",
    "    def __init__(self,L,chunk):\n",
    "        self.L=L\n",
    "        self.chunk=chunk\n",
    "        self.estrato()\n",
    "        self.plot_topography()\n",
    "        \n",
    "    def estrato(self):\n",
    "        self.vert=np.zeros((self.chunk,2));\n",
    "        self.vert[:,0]=np.linspace(0,self.L,self.chunk)\n",
    "        self.p_col=0.5*(self.vert[1:]+self.vert[:-1])\n",
    "        a=self.vert[1:]-self.vert[:-1]\n",
    "        norms=la.norm(a,axis=1)\n",
    "        self.n=np.zeros_like(a)\n",
    "        self.n[:,0]=-a[:,1]/norms\n",
    "        self.n[:,1]=a[:,0]/norms\n",
    "    \n",
    "    def get_data(self):\n",
    "        return self.vert,self.p_col,self.n  \n",
    "    def plot_topography(self):\n",
    "        plt.plot(self.vert[:,0],self.vert[:,1],'--rs')\n",
    "        plt.plot(self.p_col[:,0],self.p_col[:,1],'b*')\n",
    "        for i in range(self.chunk-1):\n",
    "            plt.quiver(self.p_col[i,0],self.p_col[i,1],self.n[i,0],self.n[i,1])\n",
    "        plt.show()"
   ]
  },
  {
   "cell_type": "code",
   "execution_count": 3,
   "id": "f5ad663f",
   "metadata": {},
   "outputs": [
    {
     "data": {
      "text/plain": [
       "\"def estrato(L,chunk):\\n    vert=np.zeros((chunk,2));\\n    vert[:,0]=np.linspace(0,L,chunk)\\n    p_col=0.5*(vert[1:]+vert[:-1])\\n    a=vert[1:]-vert[:-1]\\n    norms=la.norm(a,axis=1)\\n    n=np.zeros_like(a)\\n    n[:,0]=-a[:,1]/norms\\n    n[:,1]=a[:,0]/norms\\n    return vert,p_col,n\\n\\nchunk=4; L=1;\\nvert,p_col,norm=estrato(L,chunk)\\n\\nfrom matplotlib import pyplot as plt\\nplt.plot(vert[:,0],vert[:,1],'--rs')\\nplt.plot(p_col[:,0],p_col[:,1],'b*')\\nfor i in range(chunk-1):\\n    plt.quiver(p_col[i,0],p_col[i,1],norm[i,0],norm[i,1])\""
      ]
     },
     "execution_count": 3,
     "metadata": {},
     "output_type": "execute_result"
    }
   ],
   "source": [
    "\"\"\"def estrato(L,chunk):\n",
    "    vert=np.zeros((chunk,2));\n",
    "    vert[:,0]=np.linspace(0,L,chunk)\n",
    "    p_col=0.5*(vert[1:]+vert[:-1])\n",
    "    a=vert[1:]-vert[:-1]\n",
    "    norms=la.norm(a,axis=1)\n",
    "    n=np.zeros_like(a)\n",
    "    n[:,0]=-a[:,1]/norms\n",
    "    n[:,1]=a[:,0]/norms\n",
    "    return vert,p_col,n\n",
    "\n",
    "chunk=4; L=1;\n",
    "vert,p_col,norm=estrato(L,chunk)\n",
    "\n",
    "from matplotlib import pyplot as plt\n",
    "plt.plot(vert[:,0],vert[:,1],'--rs')\n",
    "plt.plot(p_col[:,0],p_col[:,1],'b*')\n",
    "for i in range(chunk-1):\n",
    "    plt.quiver(p_col[i,0],p_col[i,1],norm[i,0],norm[i,1])\"\"\""
   ]
  },
  {
   "cell_type": "code",
   "execution_count": 4,
   "id": "475f27a0",
   "metadata": {},
   "outputs": [
    {
     "data": {
      "text/plain": [
       "'chunk=4; L=1;\\nTopo=topography(L,chunk)\\nvert,p_col,norm=Topo.get_data()'"
      ]
     },
     "execution_count": 4,
     "metadata": {},
     "output_type": "execute_result"
    }
   ],
   "source": [
    "\"\"\"chunk=4; L=1;\n",
    "Topo=topography(L,chunk)\n",
    "vert,p_col,norm=Topo.get_data()\"\"\""
   ]
  },
  {
   "cell_type": "code",
   "execution_count": null,
   "id": "d66e6fd4",
   "metadata": {},
   "outputs": [],
   "source": []
  }
 ],
 "metadata": {
  "kernelspec": {
   "display_name": "Python 3 (ipykernel)",
   "language": "python",
   "name": "python3"
  },
  "language_info": {
   "codemirror_mode": {
    "name": "ipython",
    "version": 3
   },
   "file_extension": ".py",
   "mimetype": "text/x-python",
   "name": "python",
   "nbconvert_exporter": "python",
   "pygments_lexer": "ipython3",
   "version": "3.9.12"
  }
 },
 "nbformat": 4,
 "nbformat_minor": 5
}
