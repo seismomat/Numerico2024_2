{
  "nbformat": 4,
  "nbformat_minor": 0,
  "metadata": {
    "colab": {
      "provenance": [],
      "authorship_tag": "ABX9TyN9ZD4Dew6kcROp1a+w7Z82",
      "include_colab_link": true
    },
    "kernelspec": {
      "name": "python3",
      "display_name": "Python 3"
    },
    "language_info": {
      "name": "python"
    }
  },
  "cells": [
    {
      "cell_type": "markdown",
      "metadata": {
        "id": "view-in-github",
        "colab_type": "text"
      },
      "source": [
        "<a href=\"https://colab.research.google.com/github/seismomat/Numerico2024_2/blob/main/Fact_QR_HouseHolder.ipynb\" target=\"_parent\"><img src=\"https://colab.research.google.com/assets/colab-badge.svg\" alt=\"Open In Colab\"/></a>"
      ]
    },
    {
      "cell_type": "code",
      "execution_count": 12,
      "metadata": {
        "id": "GYP-_o4lL4yk"
      },
      "outputs": [],
      "source": [
        "import numpy as np\n",
        "from numpy import linalg as LA"
      ]
    },
    {
      "cell_type": "code",
      "source": [
        "A=np.array([[-1.,-1.,1.],[1.,3.,3.],[-1.,-1.,5.]])\n",
        "A"
      ],
      "metadata": {
        "colab": {
          "base_uri": "https://localhost:8080/"
        },
        "id": "BzL04BQOXLEB",
        "outputId": "1b425fd1-c31e-4f31-e45a-57d31a176555"
      },
      "execution_count": 13,
      "outputs": [
        {
          "output_type": "execute_result",
          "data": {
            "text/plain": [
              "array([[-1., -1.,  1.],\n",
              "       [ 1.,  3.,  3.],\n",
              "       [-1., -1.,  5.]])"
            ]
          },
          "metadata": {},
          "execution_count": 13
        }
      ]
    },
    {
      "cell_type": "code",
      "source": [
        "def Hfix(Haux,OM):\n",
        "  \"\"\"\n",
        "    Compute the HouseHolder matrix\n",
        "        Inputs:\n",
        "              Huax: float 2darray\n",
        "              OM (Original Matrix): float 2darray\n",
        "        Outputs:\n",
        "              float 2darray\n",
        "\n",
        "        >>>  OM=np.array([[0,1,1],[1,2,3],[1,1,1]])\n",
        "            Haux=[[-0.16910198 -0.98559856]\n",
        "            [-0.98559856  0.16910198]]\n",
        "             Hfix(Haux,OM)\n",
        "             >>>[[ 1.          0.          0.        ]\n",
        "             [ 0.         -0.16910198 -0.98559856]\n",
        "             [ 0.         -0.98559856  0.16910198]]\n",
        "  \"\"\"\n",
        "  if Haux.shape==OM.shape:\n",
        "    return Haux\n",
        "  else:\n",
        "    i=OM.shape[0]-Haux.shape[0]\n",
        "    H=np.eye(OM.shape[0])\n",
        "    for j in range(Haux.shape[0]):\n",
        "      fil=j+i\n",
        "      for k in range(Haux.shape[0]):\n",
        "          col=k+i\n",
        "          H[fil][col]=Haux[j][k]\n",
        "\n",
        "    return H"
      ],
      "metadata": {
        "id": "o9_ZBJynXR_c"
      },
      "execution_count": 14,
      "outputs": []
    },
    {
      "cell_type": "code",
      "source": [
        "def HouseHolder(A):\n",
        "    Qs=[]\n",
        "    R=np.copy(A)\n",
        "    for i in range(R.shape[0]-1):\n",
        "        ai=R[:,i][i:]\n",
        "        ei=np.eye(ai.shape[0])[0]\n",
        "        u=ai+np.sign(ai[0])*LA.norm(ai)*ei\n",
        "        beta=1/(u.T@u)\n",
        "        uu=u.reshape((ai.shape[0],1))\n",
        "        uuT=u.reshape((1,ai.shape[0]))\n",
        "        Haux=np.eye(ai.shape[0])-2*beta*(uu@uuT)\n",
        "        H=Hfix(Haux,A)\n",
        "        R=H @ R\n",
        "        Qs.append(H)\n",
        "\n",
        "    Q=Qs[0]\n",
        "    for i in range(1,len(Qs)):\n",
        "        Q=Q@Qs[i]\n",
        "\n",
        "    return Q,R"
      ],
      "metadata": {
        "id": "6YIS-cobL9XF"
      },
      "execution_count": 15,
      "outputs": []
    },
    {
      "cell_type": "code",
      "source": [
        "Q,R=HouseHolder(A)"
      ],
      "metadata": {
        "id": "0MGBi2w6O5v2"
      },
      "execution_count": 16,
      "outputs": []
    },
    {
      "cell_type": "code",
      "source": [
        "Q"
      ],
      "metadata": {
        "colab": {
          "base_uri": "https://localhost:8080/"
        },
        "id": "PQVHD8QoXg33",
        "outputId": "012df4d9-8f0d-4a9a-e72b-a78790c7e9be"
      },
      "execution_count": 17,
      "outputs": [
        {
          "output_type": "execute_result",
          "data": {
            "text/plain": [
              "array([[-5.77350269e-01, -4.08248290e-01, -7.07106781e-01],\n",
              "       [ 5.77350269e-01, -8.16496581e-01, -1.13379573e-16],\n",
              "       [-5.77350269e-01, -4.08248290e-01,  7.07106781e-01]])"
            ]
          },
          "metadata": {},
          "execution_count": 17
        }
      ]
    },
    {
      "cell_type": "code",
      "source": [
        "R"
      ],
      "metadata": {
        "colab": {
          "base_uri": "https://localhost:8080/"
        },
        "id": "evupay4MXh8u",
        "outputId": "6b10e364-8d52-41a7-d0da-a66777fb89ab"
      },
      "execution_count": 18,
      "outputs": [
        {
          "output_type": "execute_result",
          "data": {
            "text/plain": [
              "array([[ 1.73205081e+00,  2.88675135e+00, -1.73205081e+00],\n",
              "       [ 7.85046229e-17, -1.63299316e+00, -4.89897949e+00],\n",
              "       [ 1.35973996e-16,  4.32306238e-17,  2.82842712e+00]])"
            ]
          },
          "metadata": {},
          "execution_count": 18
        }
      ]
    },
    {
      "cell_type": "code",
      "source": [
        "# Realizar la factorización QR\n",
        "Q, R = np.linalg.qr(A)\n",
        "\n",
        "print(\"Matriz Q:\")\n",
        "print(Q)"
      ],
      "metadata": {
        "colab": {
          "base_uri": "https://localhost:8080/"
        },
        "id": "qIwRDMxMXl39",
        "outputId": "e139c016-ce45-47fd-9e8e-09191501417c"
      },
      "execution_count": 19,
      "outputs": [
        {
          "output_type": "stream",
          "name": "stdout",
          "text": [
            "Matriz Q:\n",
            "[[-0.57735027 -0.40824829 -0.70710678]\n",
            " [ 0.57735027 -0.81649658  0.        ]\n",
            " [-0.57735027 -0.40824829  0.70710678]]\n"
          ]
        }
      ]
    },
    {
      "cell_type": "code",
      "source": [
        "print(\"\\nMatriz R:\")\n",
        "print(R)"
      ],
      "metadata": {
        "colab": {
          "base_uri": "https://localhost:8080/"
        },
        "id": "5-TeNj2bZPae",
        "outputId": "2c9f6389-287f-45f4-b7e6-e389d2925b92"
      },
      "execution_count": 20,
      "outputs": [
        {
          "output_type": "stream",
          "name": "stdout",
          "text": [
            "\n",
            "Matriz R:\n",
            "[[ 1.73205081  2.88675135 -1.73205081]\n",
            " [ 0.         -1.63299316 -4.89897949]\n",
            " [ 0.          0.          2.82842712]]\n"
          ]
        }
      ]
    },
    {
      "cell_type": "code",
      "source": [],
      "metadata": {
        "id": "A-lGfyqGZRul"
      },
      "execution_count": 20,
      "outputs": []
    }
  ]
}