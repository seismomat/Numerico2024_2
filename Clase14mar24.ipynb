{
  "nbformat": 4,
  "nbformat_minor": 0,
  "metadata": {
    "colab": {
      "provenance": [],
      "authorship_tag": "ABX9TyNGEss5fJeFjJskibarozlG",
      "include_colab_link": true
    },
    "kernelspec": {
      "name": "python3",
      "display_name": "Python 3"
    },
    "language_info": {
      "name": "python"
    }
  },
  "cells": [
    {
      "cell_type": "markdown",
      "metadata": {
        "id": "view-in-github",
        "colab_type": "text"
      },
      "source": [
        "<a href=\"https://colab.research.google.com/github/seismomat/Numerico2024_2/blob/main/Clase14mar24.ipynb\" target=\"_parent\"><img src=\"https://colab.research.google.com/assets/colab-badge.svg\" alt=\"Open In Colab\"/></a>"
      ]
    },
    {
      "cell_type": "code",
      "execution_count": 2,
      "metadata": {
        "id": "nC8H0SkJde-l"
      },
      "outputs": [],
      "source": [
        "import numpy as np"
      ]
    },
    {
      "cell_type": "code",
      "source": [
        "a=1.0\n",
        "b=-(1E10+1E-10)\n",
        "c=1.0"
      ],
      "metadata": {
        "id": "XMx70rUdh9Jc"
      },
      "execution_count": 3,
      "outputs": []
    },
    {
      "cell_type": "code",
      "source": [
        "def SinRad(a,b,c):\n",
        "  D=np.sqrt(b**2-4*a*c)\n",
        "  x1=(-b+D)/(2.0*a)\n",
        "  x2=(-b-D)/(2.0*a)\n",
        "  print(\"X1 es \"+str(x1))\n",
        "  print(\"X2 es \"+str(x2))\n",
        "  return"
      ],
      "metadata": {
        "id": "_uQ7RdmdhjzN"
      },
      "execution_count": 8,
      "outputs": []
    },
    {
      "cell_type": "code",
      "source": [
        "SinRad(a,b,c)"
      ],
      "metadata": {
        "colab": {
          "base_uri": "https://localhost:8080/"
        },
        "id": "8zS3woryicZ-",
        "outputId": "05d82e1f-daf6-4176-c48f-8e5746d2f745"
      },
      "execution_count": 9,
      "outputs": [
        {
          "output_type": "stream",
          "name": "stdout",
          "text": [
            "X1 es 10000000000.0\n",
            "X2 es 0.0\n"
          ]
        }
      ]
    },
    {
      "cell_type": "code",
      "source": [
        "def ConRad(a,b,c):\n",
        "  D=np.sqrt(b**2-4*a*c)\n",
        "  x1=(-b+D)/(2.0*a)\n",
        "  x2=(2*c)/(-b+D)\n",
        "  print(\"X1 es \"+str(x1))\n",
        "  print(\"X2 es \"+str(x2))\n",
        "  return"
      ],
      "metadata": {
        "id": "pbCHr9efid3j"
      },
      "execution_count": 10,
      "outputs": []
    },
    {
      "cell_type": "code",
      "source": [
        "ConRad(a,b,c)"
      ],
      "metadata": {
        "colab": {
          "base_uri": "https://localhost:8080/"
        },
        "id": "OyEBMuoJkd3W",
        "outputId": "a73723b2-31d6-4389-b24e-8a5a8495f69b"
      },
      "execution_count": 11,
      "outputs": [
        {
          "output_type": "stream",
          "name": "stdout",
          "text": [
            "X1 es 10000000000.0\n",
            "X2 es 1e-10\n"
          ]
        }
      ]
    },
    {
      "cell_type": "code",
      "source": [
        "def FG2G(a,b,c):\n",
        "  eps=1E-6\n",
        "  D=np.sqrt(b**2-4*a*c)\n",
        "  if abs(D-abs(b))<=eps:\n",
        "    x2=(2*c)/(-b+D)\n",
        "  else:\n",
        "    x2=(-b-D)/(2.0*a)\n",
        "\n",
        "  x1=(-b+D)/(2.0*a)\n",
        "  print(\"X1 es \"+str(x1))\n",
        "  print(\"X2 es \"+str(x2))\n",
        "  return"
      ],
      "metadata": {
        "id": "E-GcCqaRkgAj"
      },
      "execution_count": 26,
      "outputs": []
    },
    {
      "cell_type": "code",
      "source": [
        "FG2G(a,b,c)"
      ],
      "metadata": {
        "colab": {
          "base_uri": "https://localhost:8080/"
        },
        "id": "sgkor23GlddO",
        "outputId": "91cc0f37-7b09-4a61-8a5d-d73eb0f5b7f0"
      },
      "execution_count": 27,
      "outputs": [
        {
          "output_type": "stream",
          "name": "stdout",
          "text": [
            "X1 es 10000000000.0\n",
            "X2 es 1e-10\n"
          ]
        }
      ]
    }
  ]
}