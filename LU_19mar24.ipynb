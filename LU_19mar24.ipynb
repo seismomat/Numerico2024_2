{
  "nbformat": 4,
  "nbformat_minor": 0,
  "metadata": {
    "colab": {
      "provenance": [],
      "authorship_tag": "ABX9TyP6FNt77NJYHS9wDNaVXSru",
      "include_colab_link": true
    },
    "kernelspec": {
      "name": "python3",
      "display_name": "Python 3"
    },
    "language_info": {
      "name": "python"
    }
  },
  "cells": [
    {
      "cell_type": "markdown",
      "metadata": {
        "id": "view-in-github",
        "colab_type": "text"
      },
      "source": [
        "<a href=\"https://colab.research.google.com/github/seismomat/Numerico2024_2/blob/main/LU_19mar24.ipynb\" target=\"_parent\"><img src=\"https://colab.research.google.com/assets/colab-badge.svg\" alt=\"Open In Colab\"/></a>"
      ]
    },
    {
      "cell_type": "code",
      "execution_count": 1,
      "metadata": {
        "id": "qurwPLfmN9Fx"
      },
      "outputs": [],
      "source": [
        "import numpy as np"
      ]
    },
    {
      "cell_type": "code",
      "source": [
        "A=np.array([[1,2,3],[2,3,1],[-2,3,-2]])\n",
        "A"
      ],
      "metadata": {
        "colab": {
          "base_uri": "https://localhost:8080/"
        },
        "id": "OQ29vH59Ttx3",
        "outputId": "b510853a-cb28-4d3e-9d18-2b645751495f"
      },
      "execution_count": 2,
      "outputs": [
        {
          "output_type": "execute_result",
          "data": {
            "text/plain": [
              "array([[ 1,  2,  3],\n",
              "       [ 2,  3,  1],\n",
              "       [-2,  3, -2]])"
            ]
          },
          "metadata": {},
          "execution_count": 2
        }
      ]
    },
    {
      "cell_type": "code",
      "source": [
        "L=np.eye(A.shape[0])\n",
        "L1=np.eye(A.shape[0])\n",
        "U=np.copy(A)\n",
        "L,U"
      ],
      "metadata": {
        "colab": {
          "base_uri": "https://localhost:8080/"
        },
        "id": "AYXnwWIMT2gb",
        "outputId": "c9eb2a7f-8c72-47a4-9cb1-a96f81fc88f5"
      },
      "execution_count": 3,
      "outputs": [
        {
          "output_type": "execute_result",
          "data": {
            "text/plain": [
              "(array([[1., 0., 0.],\n",
              "        [0., 1., 0.],\n",
              "        [0., 0., 1.]]),\n",
              " array([[ 1,  2,  3],\n",
              "        [ 2,  3,  1],\n",
              "        [-2,  3, -2]]))"
            ]
          },
          "metadata": {},
          "execution_count": 3
        }
      ]
    },
    {
      "cell_type": "markdown",
      "source": [
        "Primera iteracion"
      ],
      "metadata": {
        "id": "E6FiqXStUWlr"
      }
    },
    {
      "cell_type": "code",
      "source": [
        "# no puedo empezar desde el indice 0\n",
        "#porque el indice 0 es el número 1 de la matriz L\n",
        "# que corresponde a cuando le sumas la matriz identidad\n",
        "for i in range(1,A.shape[0]):\n",
        "  L[i,0]=-U[i,0]/U[0,0]\n",
        "L1=L1*L\n",
        "L"
      ],
      "metadata": {
        "colab": {
          "base_uri": "https://localhost:8080/"
        },
        "id": "OBjZvLUnUBhD",
        "outputId": "72a2225d-455b-4a57-db71-8c00291b777d"
      },
      "execution_count": 4,
      "outputs": [
        {
          "output_type": "execute_result",
          "data": {
            "text/plain": [
              "array([[ 1.,  0.,  0.],\n",
              "       [-2.,  1.,  0.],\n",
              "       [ 2.,  0.,  1.]])"
            ]
          },
          "metadata": {},
          "execution_count": 4
        }
      ]
    },
    {
      "cell_type": "code",
      "source": [
        "U=L@U\n",
        "U"
      ],
      "metadata": {
        "colab": {
          "base_uri": "https://localhost:8080/"
        },
        "id": "4GIxyznXU93w",
        "outputId": "46f954c9-d046-4400-fc52-51cf8a131cca"
      },
      "execution_count": 5,
      "outputs": [
        {
          "output_type": "execute_result",
          "data": {
            "text/plain": [
              "array([[ 1.,  2.,  3.],\n",
              "       [ 0., -1., -5.],\n",
              "       [ 0.,  7.,  4.]])"
            ]
          },
          "metadata": {},
          "execution_count": 5
        }
      ]
    },
    {
      "cell_type": "code",
      "source": [
        "L=np.eye(A.shape[0])\n",
        "for i in range(2,A.shape[0]):\n",
        "  L[i,1]=-U[i,1]/U[1,1]\n",
        "L1=L1*L\n",
        "L"
      ],
      "metadata": {
        "colab": {
          "base_uri": "https://localhost:8080/"
        },
        "id": "ZQ3Jx7uxVdEH",
        "outputId": "811edb5f-5bdb-4de7-9741-9484bda7bc83"
      },
      "execution_count": 6,
      "outputs": [
        {
          "output_type": "execute_result",
          "data": {
            "text/plain": [
              "array([[1., 0., 0.],\n",
              "       [0., 1., 0.],\n",
              "       [0., 7., 1.]])"
            ]
          },
          "metadata": {},
          "execution_count": 6
        }
      ]
    },
    {
      "cell_type": "code",
      "source": [
        "U=L@U\n",
        "U"
      ],
      "metadata": {
        "colab": {
          "base_uri": "https://localhost:8080/"
        },
        "id": "R3-rOtinWbtO",
        "outputId": "86d68ae5-6bb2-4f3a-bfbb-43ed8c812e27"
      },
      "execution_count": 7,
      "outputs": [
        {
          "output_type": "execute_result",
          "data": {
            "text/plain": [
              "array([[  1.,   2.,   3.],\n",
              "       [  0.,  -1.,  -5.],\n",
              "       [  0.,   0., -31.]])"
            ]
          },
          "metadata": {},
          "execution_count": 7
        }
      ]
    },
    {
      "cell_type": "code",
      "source": [],
      "metadata": {
        "colab": {
          "base_uri": "https://localhost:8080/"
        },
        "id": "16ic1u8pWqPM",
        "outputId": "b9da7fec-b904-47b9-ed66-b99f6c45cfb8"
      },
      "execution_count": 8,
      "outputs": [
        {
          "output_type": "execute_result",
          "data": {
            "text/plain": [
              "array([[ 1.,  0.,  0.],\n",
              "       [-0.,  1.,  0.],\n",
              "       [ 0.,  0.,  1.]])"
            ]
          },
          "metadata": {},
          "execution_count": 8
        }
      ]
    }
  ]
}