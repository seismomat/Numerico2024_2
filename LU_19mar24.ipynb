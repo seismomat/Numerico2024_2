{
  "nbformat": 4,
  "nbformat_minor": 0,
  "metadata": {
    "colab": {
      "provenance": [],
      "include_colab_link": true
    },
    "kernelspec": {
      "name": "python3",
      "display_name": "Python 3"
    },
    "language_info": {
      "name": "python"
    }
  },
  "cells": [
    {
      "cell_type": "markdown",
      "metadata": {
        "id": "view-in-github",
        "colab_type": "text"
      },
      "source": [
        "<a href=\"https://colab.research.google.com/github/seismomat/Numerico2024_2/blob/main/LU_19mar24.ipynb\" target=\"_parent\"><img src=\"https://colab.research.google.com/assets/colab-badge.svg\" alt=\"Open In Colab\"/></a>"
      ]
    },
    {
      "cell_type": "code",
      "execution_count": 1,
      "metadata": {
        "id": "qurwPLfmN9Fx"
      },
      "outputs": [],
      "source": [
        "import numpy as np"
      ]
    },
    {
      "cell_type": "code",
      "source": [
        "A=np.array([[1,2,3],[2,3,1],[-2,3,-2]])\n",
        "A"
      ],
      "metadata": {
        "colab": {
          "base_uri": "https://localhost:8080/"
        },
        "id": "OQ29vH59Ttx3",
        "outputId": "f3cd9340-6aa8-4e59-d7b6-e9b51bacaa92"
      },
      "execution_count": 2,
      "outputs": [
        {
          "output_type": "execute_result",
          "data": {
            "text/plain": [
              "array([[ 1,  2,  3],\n",
              "       [ 2,  3,  1],\n",
              "       [-2,  3, -2]])"
            ]
          },
          "metadata": {},
          "execution_count": 2
        }
      ]
    },
    {
      "cell_type": "code",
      "source": [
        "L=np.eye(A.shape[0])\n",
        "L1=np.eye(A.shape[0])\n",
        "U=np.copy(A)\n",
        "L,U"
      ],
      "metadata": {
        "colab": {
          "base_uri": "https://localhost:8080/"
        },
        "id": "AYXnwWIMT2gb",
        "outputId": "59b7b263-e731-4d10-85e1-b36fb28f125d"
      },
      "execution_count": 3,
      "outputs": [
        {
          "output_type": "execute_result",
          "data": {
            "text/plain": [
              "(array([[1., 0., 0.],\n",
              "        [0., 1., 0.],\n",
              "        [0., 0., 1.]]),\n",
              " array([[ 1,  2,  3],\n",
              "        [ 2,  3,  1],\n",
              "        [-2,  3, -2]]))"
            ]
          },
          "metadata": {},
          "execution_count": 3
        }
      ]
    },
    {
      "cell_type": "markdown",
      "source": [
        "Primera iteracion"
      ],
      "metadata": {
        "id": "E6FiqXStUWlr"
      }
    },
    {
      "cell_type": "code",
      "source": [
        "# no puedo empezar desde el indice 0\n",
        "#porque el indice 0 es el número 1 de la matriz L\n",
        "# que corresponde a cuando le sumas la matriz identidad\n",
        "for i in range(1,A.shape[0]):\n",
        "  L[i,0]=-U[i,0]/U[0,0]\n",
        "L1=L1@L\n",
        "L1"
      ],
      "metadata": {
        "colab": {
          "base_uri": "https://localhost:8080/"
        },
        "id": "OBjZvLUnUBhD",
        "outputId": "6dde8285-67ff-436e-f39f-8b38142608ab"
      },
      "execution_count": 4,
      "outputs": [
        {
          "output_type": "execute_result",
          "data": {
            "text/plain": [
              "array([[ 1.,  0.,  0.],\n",
              "       [-2.,  1.,  0.],\n",
              "       [ 2.,  0.,  1.]])"
            ]
          },
          "metadata": {},
          "execution_count": 4
        }
      ]
    },
    {
      "cell_type": "code",
      "source": [
        "U=L@U\n",
        "U"
      ],
      "metadata": {
        "colab": {
          "base_uri": "https://localhost:8080/"
        },
        "id": "4GIxyznXU93w",
        "outputId": "2c6e735c-2542-42dc-ea50-8a46272a884b"
      },
      "execution_count": 5,
      "outputs": [
        {
          "output_type": "execute_result",
          "data": {
            "text/plain": [
              "array([[ 1.,  2.,  3.],\n",
              "       [ 0., -1., -5.],\n",
              "       [ 0.,  7.,  4.]])"
            ]
          },
          "metadata": {},
          "execution_count": 5
        }
      ]
    },
    {
      "cell_type": "code",
      "source": [
        "L=np.eye(A.shape[0])\n",
        "for i in range(2,A.shape[0]):\n",
        "  L[i,1]=-U[i,1]/U[1,1]\n",
        "L1=L1@L\n",
        "L"
      ],
      "metadata": {
        "colab": {
          "base_uri": "https://localhost:8080/"
        },
        "id": "ZQ3Jx7uxVdEH",
        "outputId": "943eca98-6692-445a-82f9-3b353a84f0cf"
      },
      "execution_count": 6,
      "outputs": [
        {
          "output_type": "execute_result",
          "data": {
            "text/plain": [
              "array([[1., 0., 0.],\n",
              "       [0., 1., 0.],\n",
              "       [0., 7., 1.]])"
            ]
          },
          "metadata": {},
          "execution_count": 6
        }
      ]
    },
    {
      "cell_type": "code",
      "source": [
        "L1"
      ],
      "metadata": {
        "id": "gJp2q4LkNKiM",
        "outputId": "18d82459-bcf8-453f-e86f-2d1a5dd427af",
        "colab": {
          "base_uri": "https://localhost:8080/"
        }
      },
      "execution_count": 7,
      "outputs": [
        {
          "output_type": "execute_result",
          "data": {
            "text/plain": [
              "array([[ 1.,  0.,  0.],\n",
              "       [-2.,  1.,  0.],\n",
              "       [ 2.,  7.,  1.]])"
            ]
          },
          "metadata": {},
          "execution_count": 7
        }
      ]
    },
    {
      "cell_type": "code",
      "source": [
        "U=L@U\n",
        "U"
      ],
      "metadata": {
        "colab": {
          "base_uri": "https://localhost:8080/"
        },
        "id": "R3-rOtinWbtO",
        "outputId": "22752a09-ae9e-42bb-f2bd-c1bfa7ca81a4"
      },
      "execution_count": 8,
      "outputs": [
        {
          "output_type": "execute_result",
          "data": {
            "text/plain": [
              "array([[  1.,   2.,   3.],\n",
              "       [  0.,  -1.,  -5.],\n",
              "       [  0.,   0., -31.]])"
            ]
          },
          "metadata": {},
          "execution_count": 8
        }
      ]
    },
    {
      "cell_type": "code",
      "source": [
        "def LU(A):\n",
        "  U=np.copy(A)\n",
        "  L=np.eye(A.shape[0])\n",
        "  L1=np.eye(A.shape[0])\n",
        "  for k in range(A.shape[0]):\n",
        "    L=np.eye(A.shape[0])\n",
        "    for i in range(k+1,A.shape[0]):\n",
        "      L[i,k]=-U[i,k]/U[k,k]\n",
        "    U=L@U\n",
        "    L1=L1@L\n",
        "    L1=2*np.eye(A.shape[0])-L1\n",
        "  return L1,U"
      ],
      "metadata": {
        "id": "16ic1u8pWqPM"
      },
      "execution_count": 28,
      "outputs": []
    },
    {
      "cell_type": "code",
      "source": [
        "L,U=LU(A)"
      ],
      "metadata": {
        "id": "XrhrK0a2QkFb"
      },
      "execution_count": 29,
      "outputs": []
    },
    {
      "cell_type": "code",
      "source": [
        "L,U"
      ],
      "metadata": {
        "id": "ePDsUb9YQlmI",
        "outputId": "5333b171-bbf8-4e2b-8a40-98325444723c",
        "colab": {
          "base_uri": "https://localhost:8080/"
        }
      },
      "execution_count": 30,
      "outputs": [
        {
          "output_type": "execute_result",
          "data": {
            "text/plain": [
              "(array([[ 1.,  0.,  0.],\n",
              "        [ 2.,  1.,  0.],\n",
              "        [-2.,  7.,  1.]]),\n",
              " array([[  1.,   2.,   3.],\n",
              "        [  0.,  -1.,  -5.],\n",
              "        [  0.,   0., -31.]]))"
            ]
          },
          "metadata": {},
          "execution_count": 30
        }
      ]
    },
    {
      "cell_type": "code",
      "source": [],
      "metadata": {
        "id": "jfIhlA4BSQGi"
      },
      "execution_count": null,
      "outputs": []
    }
  ]
}