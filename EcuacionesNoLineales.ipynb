{
  "nbformat": 4,
  "nbformat_minor": 0,
  "metadata": {
    "colab": {
      "provenance": [],
      "authorship_tag": "ABX9TyOrfy4rZxDBbvi4t4XyVyl9",
      "include_colab_link": true
    },
    "kernelspec": {
      "name": "python3",
      "display_name": "Python 3"
    },
    "language_info": {
      "name": "python"
    }
  },
  "cells": [
    {
      "cell_type": "markdown",
      "metadata": {
        "id": "view-in-github",
        "colab_type": "text"
      },
      "source": [
        "<a href=\"https://colab.research.google.com/github/seismomat/Numerico2024_2/blob/main/EcuacionesNoLineales.ipynb\" target=\"_parent\"><img src=\"https://colab.research.google.com/assets/colab-badge.svg\" alt=\"Open In Colab\"/></a>"
      ]
    },
    {
      "cell_type": "code",
      "execution_count": 1,
      "metadata": {
        "id": "7mBgGZDdle0p"
      },
      "outputs": [],
      "source": [
        "import numpy as np"
      ]
    },
    {
      "cell_type": "code",
      "source": [
        "f=lambda x:(x**2)-1\n",
        "df= lambda x:2*x"
      ],
      "metadata": {
        "id": "IYPw0ODlmNbD"
      },
      "execution_count": 2,
      "outputs": []
    },
    {
      "cell_type": "code",
      "source": [
        "def Biseccion(Tol,N,f,a,b):\n",
        "  #N es el numero de iteraciones\n",
        "  # Tol es la tolerancia\n",
        "  # f es la función a la cual se le quiere\n",
        "  # obtener las raíces\n",
        "  # a es el extremo izquierdo del intervalo\n",
        "  # b es el extremo derecho del intervalo\n",
        "\n",
        "  fa,fb=f(a),f(b)\n",
        "  if fa*fb>0.0:\n",
        "    print(\"No tiene raíces en el intervalo\")\n",
        "\n",
        "  x0=0.0\n",
        "  Iter=0\n",
        "  while Iter<=N:\n",
        "    x1=(a+b)/2.0\n",
        "    fx1=f(x1)\n",
        "    if abs(fx1)<=Tol and abs(x1-x0)<=Tol:\n",
        "      print(\"Tu raiz es \"+str(x1))\n",
        "      return x1\n",
        "\n",
        "    if fa*fx1<0:\n",
        "      b=x1\n",
        "    if fx1*fb<0:\n",
        "      a=x1\n",
        "\n",
        "    x0=x1\n",
        "    Iter+=1\n",
        "\n",
        "  else:\n",
        "    print(\"El valor aproximado de tu raiz es\"+str(x1))\n",
        ""
      ],
      "metadata": {
        "id": "exql2zc7mO_D"
      },
      "execution_count": 9,
      "outputs": []
    },
    {
      "cell_type": "code",
      "source": [
        "r=Biseccion(1E-4,100,f,0,1.5)"
      ],
      "metadata": {
        "colab": {
          "base_uri": "https://localhost:8080/"
        },
        "id": "U6wA-P-hqCC9",
        "outputId": "4efa6b58-4c02-44c4-c3a9-e8eed120ccde"
      },
      "execution_count": 11,
      "outputs": [
        {
          "output_type": "stream",
          "name": "stdout",
          "text": [
            "Tu raiz es 1.000030517578125\n"
          ]
        }
      ]
    },
    {
      "cell_type": "code",
      "source": [
        "def ReglaFalsa(Tol,N,f,a,b):\n",
        "  #N es el numero de iteraciones\n",
        "  # Tol es la tolerancia\n",
        "  # f es la función a la cual se le quiere\n",
        "  # obtener las raíces\n",
        "  # a es el extremo izquierdo del intervalo\n",
        "  # b es el extremo derecho del intervalo\n",
        "\n",
        "  fa,fb=f(a),f(b)\n",
        "  if fa*fb>0.0:\n",
        "    print(\"No tiene raíces en el intervalo\")\n",
        "\n",
        "  x0=0.0\n",
        "  Iter=0\n",
        "  while Iter<=N:\n",
        "    x1=(a*fb-b*fa)/(fb-fa)\n",
        "    fx1=f(x1)\n",
        "    if abs(fx1)<=Tol and abs(x1-x0)<=Tol:\n",
        "      print(\"Tu raiz es \"+str(x1))\n",
        "      return x1\n",
        "\n",
        "    if fa*fx1<0:\n",
        "      b=x1\n",
        "    if fx1*fb<0:\n",
        "      a=x1\n",
        "\n",
        "    x0=x1\n",
        "    Iter+=1\n",
        "\n",
        "  else:\n",
        "    print(\"El valor aproximado de tu raiz es\"+str(x1))"
      ],
      "metadata": {
        "id": "02i8heIDqKOK"
      },
      "execution_count": 12,
      "outputs": []
    },
    {
      "cell_type": "code",
      "source": [
        "r=ReglaFalsa(1E-4,100,f,0,1.5)"
      ],
      "metadata": {
        "colab": {
          "base_uri": "https://localhost:8080/"
        },
        "id": "2fs6o7uOs9bb",
        "outputId": "86bf339a-c6a1-4f2f-c6a0-95ad5ebe1c6f"
      },
      "execution_count": 13,
      "outputs": [
        {
          "output_type": "stream",
          "name": "stdout",
          "text": [
            "Tu raiz es 0.9999658991686936\n"
          ]
        }
      ]
    },
    {
      "cell_type": "code",
      "source": [
        "def Secante(Tol,N,f,a,b):\n",
        "  #N es el numero de iteraciones\n",
        "  # Tol es la tolerancia\n",
        "  # f es la función a la cual se le quiere\n",
        "  # obtener las raíces\n",
        "  # a es el extremo izquierdo del intervalo\n",
        "  # b es el extremo derecho del intervalo\n",
        "\n",
        "  fa,fb=f(a),f(b)\n",
        "  if fa*fb>0.0:\n",
        "    print(\"No tiene raíces en el intervalo\")\n",
        "\n",
        "  x0=0.0\n",
        "  Iter=0\n",
        "  while Iter<=N:\n",
        "    x1=a-(fa*(b-a)/(fb-fa))\n",
        "    fx1=f(x1)\n",
        "    if abs(fx1)<=Tol and abs(x1-x0)<=Tol:\n",
        "      print(\"Tu raiz es \"+str(x1))\n",
        "      return x1\n",
        "\n",
        "    if fa*fx1<0:\n",
        "      b=x1\n",
        "    if fx1*fb<0:\n",
        "      a=x1\n",
        "\n",
        "    x0=x1\n",
        "    Iter+=1\n",
        "\n",
        "  else:\n",
        "    print(\"El valor aproximado de tu raiz es\"+str(x1))"
      ],
      "metadata": {
        "id": "NAwX-VHKtB6a"
      },
      "execution_count": null,
      "outputs": []
    },
    {
      "cell_type": "code",
      "source": [
        "def Newton(f,df,Tol,N,x0):\n",
        "  Iter=0\n",
        "\n",
        "  while Iter<=N:\n",
        "    fx=f(x0)\n",
        "    dfx=df(x0)\n",
        "\n",
        "    xn = x0 - (fx/float(dfx))\n",
        "    if abs(f(xn))<=Tol and abs(xn-x0)<=Tol:\n",
        "      print(\"Tu raiz es \"+str(xn))\n",
        "      return xn\n",
        "\n",
        "    x0=xn\n",
        "\n",
        "    Iter+=1\n",
        "\n",
        "  else:\n",
        "    print(\"El valor aproximado de tu raiz es\"+str(xn))"
      ],
      "metadata": {
        "id": "77Wvoaq6vM8W"
      },
      "execution_count": 14,
      "outputs": []
    },
    {
      "cell_type": "code",
      "source": [
        "r=Newton(f,df,1E-4,100,0.5)"
      ],
      "metadata": {
        "colab": {
          "base_uri": "https://localhost:8080/"
        },
        "id": "6ubjmmB3wTuj",
        "outputId": "a851c9a7-e51c-4ca2-8a53-dd76e457fa52"
      },
      "execution_count": 17,
      "outputs": [
        {
          "output_type": "stream",
          "name": "stdout",
          "text": [
            "Tu raiz es 1.000000000000001\n"
          ]
        }
      ]
    },
    {
      "cell_type": "code",
      "source": [],
      "metadata": {
        "id": "-3kobhgwwYPa"
      },
      "execution_count": null,
      "outputs": []
    }
  ]
}