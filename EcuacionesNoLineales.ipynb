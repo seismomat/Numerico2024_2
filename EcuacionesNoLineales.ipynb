{
  "cells": [
    {
      "cell_type": "markdown",
      "metadata": {
        "id": "view-in-github",
        "colab_type": "text"
      },
      "source": [
        "<a href=\"https://colab.research.google.com/github/seismomat/Numerico2024_2/blob/main/EcuacionesNoLineales.ipynb\" target=\"_parent\"><img src=\"https://colab.research.google.com/assets/colab-badge.svg\" alt=\"Open In Colab\"/></a>"
      ]
    },
    {
      "cell_type": "code",
      "execution_count": 1,
      "metadata": {
        "id": "7mBgGZDdle0p"
      },
      "outputs": [],
      "source": [
        "import numpy as np"
      ]
    },
    {
      "cell_type": "code",
      "execution_count": null,
      "metadata": {
        "id": "IYPw0ODlmNbD"
      },
      "outputs": [],
      "source": [
        "f=lambda x:(x**2)-1\n",
        "df= lambda x:2*x"
      ]
    },
    {
      "cell_type": "code",
      "source": [
        "f=lambda x: np.exp(x)-x**2+3*x-2 # funcion del ejercicio 2 inciso b"
      ],
      "metadata": {
        "id": "g00bh1FIBIho"
      },
      "execution_count": 2,
      "outputs": []
    },
    {
      "cell_type": "code",
      "execution_count": 3,
      "metadata": {
        "id": "exql2zc7mO_D"
      },
      "outputs": [],
      "source": [
        "def Biseccion(Tol,N,f,a,b):\n",
        "  #N es el numero de iteraciones\n",
        "  # Tol es la tolerancia\n",
        "  # f es la función a la cual se le quiere\n",
        "  # obtener las raíces\n",
        "  # a es el extremo izquierdo del intervalo\n",
        "  # b es el extremo derecho del intervalo\n",
        "\n",
        "  fa,fb=f(a),f(b)\n",
        "  if fa*fb>0.0:\n",
        "    print(\"No tiene raíces en el intervalo\")\n",
        "\n",
        "  x0=0.0\n",
        "  Iter=0\n",
        "  while Iter<=N:\n",
        "    x1=(a+b)/2.0\n",
        "    fx1=f(x1)\n",
        "    if abs(fx1)<=Tol and abs(x1-x0)<=Tol:\n",
        "      print(\"Tu raiz es \"+str(x1))\n",
        "      return x1\n",
        "\n",
        "    if fa*fx1<0:\n",
        "      b=x1\n",
        "    if fx1*fb<0:\n",
        "      a=x1\n",
        "\n",
        "    x0=x1\n",
        "    Iter+=1\n",
        "\n",
        "  else:\n",
        "    print(\"El valor aproximado de tu raiz es\"+str(x1))\n"
      ]
    },
    {
      "cell_type": "code",
      "execution_count": 4,
      "metadata": {
        "colab": {
          "base_uri": "https://localhost:8080/"
        },
        "id": "U6wA-P-hqCC9",
        "outputId": "a2616170-7017-48a1-f76e-977cf67a1fbc"
      },
      "outputs": [
        {
          "output_type": "stream",
          "name": "stdout",
          "text": [
            "Tu raiz es 0.25750732421875\n"
          ]
        }
      ],
      "source": [
        "r=Biseccion(1E-4,100,f,0,1.)"
      ]
    },
    {
      "cell_type": "code",
      "source": [
        "f(r)"
      ],
      "metadata": {
        "id": "3R_nsiUNBdoM",
        "outputId": "d98a9c45-6b46-44f4-dd88-416ec0d47c43",
        "colab": {
          "base_uri": "https://localhost:8080/"
        }
      },
      "execution_count": 5,
      "outputs": [
        {
          "output_type": "execute_result",
          "data": {
            "text/plain": [
              "-8.676307321620058e-05"
            ]
          },
          "metadata": {},
          "execution_count": 5
        }
      ]
    },
    {
      "cell_type": "code",
      "execution_count": null,
      "metadata": {
        "id": "02i8heIDqKOK"
      },
      "outputs": [],
      "source": [
        "def ReglaFalsa(Tol,N,f,a,b):\n",
        "  #N es el numero de iteraciones\n",
        "  # Tol es la tolerancia\n",
        "  # f es la función a la cual se le quiere\n",
        "  # obtener las raíces\n",
        "  # a es el extremo izquierdo del intervalo\n",
        "  # b es el extremo derecho del intervalo\n",
        "\n",
        "  fa,fb=f(a),f(b)\n",
        "  if fa*fb>0.0:\n",
        "    print(\"No tiene raíces en el intervalo\")\n",
        "\n",
        "  x0=0.0\n",
        "  Iter=0\n",
        "  while Iter<=N:\n",
        "    x1=(a*fb-b*fa)/(fb-fa)\n",
        "    fx1=f(x1)\n",
        "    if abs(fx1)<=Tol and abs(x1-x0)<=Tol:\n",
        "      print(\"Tu raiz es \"+str(x1))\n",
        "      return x1\n",
        "\n",
        "    if fa*fx1<0:\n",
        "      b=x1\n",
        "    if fx1*fb<0:\n",
        "      a=x1\n",
        "\n",
        "    x0=x1\n",
        "    Iter+=1\n",
        "\n",
        "  else:\n",
        "    print(\"El valor aproximado de tu raiz es\"+str(x1))"
      ]
    },
    {
      "cell_type": "code",
      "execution_count": null,
      "metadata": {
        "colab": {
          "base_uri": "https://localhost:8080/"
        },
        "id": "2fs6o7uOs9bb",
        "outputId": "86bf339a-c6a1-4f2f-c6a0-95ad5ebe1c6f"
      },
      "outputs": [
        {
          "name": "stdout",
          "output_type": "stream",
          "text": [
            "Tu raiz es 0.9999658991686936\n"
          ]
        }
      ],
      "source": [
        "r=ReglaFalsa(1E-4,100,f,0,1.5)"
      ]
    },
    {
      "cell_type": "code",
      "execution_count": null,
      "metadata": {
        "id": "NAwX-VHKtB6a"
      },
      "outputs": [],
      "source": [
        "def Secante(Tol,N,f,a,b):\n",
        "  #N es el numero de iteraciones\n",
        "  # Tol es la tolerancia\n",
        "  # f es la función a la cual se le quiere\n",
        "  # obtener las raíces\n",
        "  # a es el extremo izquierdo del intervalo\n",
        "  # b es el extremo derecho del intervalo\n",
        "\n",
        "    fa,fb=f(a),f(b)\n",
        "    if fa*fb>0.0:\n",
        "        print(\"No tiene raíces en el intervalo\")\n",
        "\n",
        "    Iter=0\n",
        "    while Iter<=N:\n",
        "        fa,fb=f(a),f(b)\n",
        "        x1=a-(fa*(b-a)/(fb-fa))\n",
        "        fx1=f(x1)\n",
        "        if abs(fx1)<=Tol and abs(x1-x0)<=Tol:\n",
        "            print(\"Tu raiz es \"+str(x1))\n",
        "            return x1\n",
        "\n",
        "        if fa*fx1<0:\n",
        "            b=x1\n",
        "        if fx1*fb<0:\n",
        "            a=x1\n",
        "        x0=x1\n",
        "\n",
        "        Iter+=1\n",
        "\n",
        "    else:\n",
        "        print(\"El valor aproximado de tu raiz es\"+str(x1))"
      ]
    },
    {
      "cell_type": "code",
      "execution_count": null,
      "metadata": {
        "id": "YAmuCbAPAe2c",
        "outputId": "75e240a9-f892-4fab-c3a7-09c334d6c5cd"
      },
      "outputs": [
        {
          "name": "stdout",
          "output_type": "stream",
          "text": [
            "Tu raiz es 0.9999310792981904\n"
          ]
        },
        {
          "data": {
            "text/plain": [
              "0.9999310792981904"
            ]
          },
          "execution_count": 12,
          "metadata": {},
          "output_type": "execute_result"
        }
      ],
      "source": [
        "Secante(0.001,20,f,0.3,1.5)"
      ]
    },
    {
      "cell_type": "code",
      "source": [
        "f=lambda x: x**2-6 # funcion del ejercicio 8\n",
        "df= lambda x: 2*x"
      ],
      "metadata": {
        "id": "XKcdYu88BwF0"
      },
      "execution_count": 6,
      "outputs": []
    },
    {
      "cell_type": "code",
      "execution_count": 8,
      "metadata": {
        "id": "77Wvoaq6vM8W"
      },
      "outputs": [],
      "source": [
        "def Newton(f,df,Tol,N,x0):\n",
        "  Iter=0\n",
        "\n",
        "  while Iter<=N:\n",
        "    fx=f(x0)\n",
        "    dfx=df(x0)\n",
        "\n",
        "    xn = x0 - (fx/float(dfx))\n",
        "    if abs(f(xn))<=Tol and abs(xn-x0)<=Tol:\n",
        "      print(\"Tu raiz es \"+str(xn))\n",
        "      return xn\n",
        "\n",
        "    x0=xn\n",
        "\n",
        "    Iter+=1\n",
        "\n",
        "  else:\n",
        "    print(\"El valor aproximado de tu raiz es\"+str(xn))"
      ]
    },
    {
      "cell_type": "code",
      "execution_count": 11,
      "metadata": {
        "colab": {
          "base_uri": "https://localhost:8080/"
        },
        "id": "6ubjmmB3wTuj",
        "outputId": "40a3feaf-01af-417f-d70d-1500c2290eb7"
      },
      "outputs": [
        {
          "output_type": "stream",
          "name": "stdout",
          "text": [
            "Tu raiz es 2.4494897427875517\n"
          ]
        }
      ],
      "source": [
        "r=Newton(f,df,1E-5,100,1.)"
      ]
    },
    {
      "cell_type": "code",
      "source": [
        "f(r)"
      ],
      "metadata": {
        "id": "U42gu5HeCD3u",
        "outputId": "29b929f8-74ee-4d34-e9a1-f0ee9ec189cb",
        "colab": {
          "base_uri": "https://localhost:8080/"
        }
      },
      "execution_count": 12,
      "outputs": [
        {
          "output_type": "execute_result",
          "data": {
            "text/plain": [
              "2.142641619684582e-11"
            ]
          },
          "metadata": {},
          "execution_count": 12
        }
      ]
    },
    {
      "cell_type": "code",
      "execution_count": 22,
      "metadata": {
        "id": "-3kobhgwwYPa"
      },
      "outputs": [],
      "source": [
        "f= lambda x: np.cos(x)-x+1\n",
        "g=lambda x: np.cos(x)+1\n",
        "# condicion inicial\n",
        "x=1.5"
      ]
    },
    {
      "cell_type": "code",
      "execution_count": 23,
      "metadata": {
        "id": "-VrdZdBxAe2g"
      },
      "outputs": [],
      "source": [
        "def FixPoint(g,x0,Tol=0.0001,N=100):\n",
        "    n=1\n",
        "    while n<=N:\n",
        "        x1=g(x0)\n",
        "        if abs(x1-x0)<=Tol:\n",
        "            print(f\"EL punto fijo es {x1}\")\n",
        "            return x1\n",
        "        x0=x1\n",
        "        n+=1\n",
        "    else:\n",
        "        print(f\"Una aproximación del punto fijo es {x1}\")\n",
        "        return x1"
      ]
    },
    {
      "cell_type": "code",
      "execution_count": 24,
      "metadata": {
        "id": "8WdDmhQNAe2g",
        "outputId": "6b951a3d-a27f-461c-99ea-ba8754caface",
        "colab": {
          "base_uri": "https://localhost:8080/"
        }
      },
      "outputs": [
        {
          "output_type": "stream",
          "name": "stdout",
          "text": [
            "Una aproximación del punto fijo es 1.2864456249325646\n"
          ]
        }
      ],
      "source": [
        "FP=FixPoint(g,1.5)"
      ]
    },
    {
      "cell_type": "code",
      "execution_count": null,
      "metadata": {
        "id": "hqdarKwHAe2g",
        "outputId": "ae516237-f766-45ad-a854-275753b46b6c"
      },
      "outputs": [
        {
          "data": {
            "text/plain": [
              "-0.00591133938366184"
            ]
          },
          "execution_count": 19,
          "metadata": {},
          "output_type": "execute_result"
        }
      ],
      "source": [
        "# revisando si es raiz el punto fijo\n",
        "f(FP)"
      ]
    },
    {
      "cell_type": "code",
      "execution_count": null,
      "metadata": {
        "id": "BTRmQbr_Ae2h"
      },
      "outputs": [],
      "source": [
        "f= lambda x: 0.5*np.sin(x)-x+1\n",
        "g=lambda x: 0.5*np.sin(x)+1\n",
        "# condicion inicial\n",
        "x=1.5"
      ]
    },
    {
      "cell_type": "code",
      "execution_count": null,
      "metadata": {
        "id": "ZsVYH7C3Ae2h",
        "outputId": "938b4b51-eda8-43ef-dc73-93172ac3e405"
      },
      "outputs": [
        {
          "name": "stdout",
          "output_type": "stream",
          "text": [
            "EL punto fijo es 1.4987028026934108\n"
          ]
        }
      ],
      "source": [
        "FP=FixPoint(g,1.5)"
      ]
    },
    {
      "cell_type": "code",
      "execution_count": null,
      "metadata": {
        "id": "dd8aELInAe2h",
        "outputId": "cefea3b7-663c-4420-d113-af8f9248c7af"
      },
      "outputs": [
        {
          "data": {
            "text/plain": [
              "-1.6090586005823582e-06"
            ]
          },
          "execution_count": 24,
          "metadata": {},
          "output_type": "execute_result"
        }
      ],
      "source": [
        "# revisando si es raiz el punto fijo\n",
        "f(FP)"
      ]
    },
    {
      "cell_type": "code",
      "execution_count": 32,
      "metadata": {
        "id": "p5N2utrIAe2i"
      },
      "outputs": [],
      "source": [
        "f=lambda x: x**4+2*(x**2)-x-3\n",
        "#g= lambda x: x**4+2*(x**2)-3\n",
        "#g=lambda x:np.sqrt((x+3-x**4)/2.0)\n",
        "g=lambda x: (x+3-2*x**2)**(1/4)\n",
        "# condicion inicial\n",
        "x0=1."
      ]
    },
    {
      "cell_type": "code",
      "source": [
        "FP=FixPoint(g,x0)"
      ],
      "metadata": {
        "id": "hmNYN4PsEB5Z",
        "outputId": "59cdd75f-c081-49f6-83db-7176ff2580d3",
        "colab": {
          "base_uri": "https://localhost:8080/"
        }
      },
      "execution_count": 33,
      "outputs": [
        {
          "output_type": "stream",
          "name": "stdout",
          "text": [
            "EL punto fijo es 1.1241521966232515\n"
          ]
        }
      ]
    },
    {
      "cell_type": "code",
      "source": [
        "# revisando si es raiz el punto fijo\n",
        "f(FP)"
      ],
      "metadata": {
        "id": "jeYsivNsEGNp",
        "outputId": "d1b73ebd-8f89-4225-9631-10e533fab48e",
        "colab": {
          "base_uri": "https://localhost:8080/"
        }
      },
      "execution_count": 34,
      "outputs": [
        {
          "output_type": "execute_result",
          "data": {
            "text/plain": [
              "0.0002677166006801457"
            ]
          },
          "metadata": {},
          "execution_count": 34
        }
      ]
    },
    {
      "cell_type": "code",
      "source": [],
      "metadata": {
        "id": "HtQz0IVFFLPv"
      },
      "execution_count": null,
      "outputs": []
    }
  ],
  "metadata": {
    "colab": {
      "provenance": [],
      "include_colab_link": true
    },
    "kernelspec": {
      "display_name": "Python 3 (ipykernel)",
      "language": "python",
      "name": "python3"
    },
    "language_info": {
      "codemirror_mode": {
        "name": "ipython",
        "version": 3
      },
      "file_extension": ".py",
      "mimetype": "text/x-python",
      "name": "python",
      "nbconvert_exporter": "python",
      "pygments_lexer": "ipython3",
      "version": "3.9.12"
    }
  },
  "nbformat": 4,
  "nbformat_minor": 0
}