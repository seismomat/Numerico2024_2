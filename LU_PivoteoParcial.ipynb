{
  "nbformat": 4,
  "nbformat_minor": 0,
  "metadata": {
    "colab": {
      "provenance": [],
      "include_colab_link": true
    },
    "kernelspec": {
      "name": "python3",
      "display_name": "Python 3"
    },
    "language_info": {
      "name": "python"
    }
  },
  "cells": [
    {
      "cell_type": "markdown",
      "metadata": {
        "id": "view-in-github",
        "colab_type": "text"
      },
      "source": [
        "<a href=\"https://colab.research.google.com/github/seismomat/Numerico2024_2/blob/main/LU_PivoteoParcial.ipynb\" target=\"_parent\"><img src=\"https://colab.research.google.com/assets/colab-badge.svg\" alt=\"Open In Colab\"/></a>"
      ]
    },
    {
      "cell_type": "code",
      "execution_count": 1,
      "metadata": {
        "id": "MDClRlIXF0GQ"
      },
      "outputs": [],
      "source": [
        "import numpy as np"
      ]
    },
    {
      "cell_type": "code",
      "source": [
        "A=np.array([[1.0,2.0,2.0],[4.0,4.0,2.0],[4.0,6.0,4.0]])\n",
        "A"
      ],
      "metadata": {
        "colab": {
          "base_uri": "https://localhost:8080/"
        },
        "id": "2eb9cxQrF0pN",
        "outputId": "ae94d48a-f2be-4ee9-f1e8-6fca5bfb80db"
      },
      "execution_count": 2,
      "outputs": [
        {
          "output_type": "execute_result",
          "data": {
            "text/plain": [
              "array([[1., 2., 2.],\n",
              "       [4., 4., 2.],\n",
              "       [4., 6., 4.]])"
            ]
          },
          "metadata": {},
          "execution_count": 2
        }
      ]
    },
    {
      "cell_type": "code",
      "source": [
        "def LU_PartialPivot(A):\n",
        "  U=np.copy(A)\n",
        "  Ps=[]\n",
        "  Ls=[]\n",
        "  for j in range(U.shape[0]):\n",
        "    P=np.eye(U.shape[0])\n",
        "    L=np.eye(U.shape[0])\n",
        "    k=np.argmax(np.abs(U[j:,j]))+j\n",
        "    print(f\"k={k}\")\n",
        "    U[[j,k]]=U[[k,j]]\n",
        "    P[[j,k]]=P[[k,j]]\n",
        "    for i in range(j+1,A.shape[0]):\n",
        "      L[i,j]=-U[i,j]/U[j,j]\n",
        "    U=L@U\n",
        "\n",
        "    Ps.append(P)\n",
        "    Ls.append(np.linalg.inv(L))\n",
        "\n",
        "  PM=np.eye(U.shape[0])\n",
        "  for i in range(len(Ps)-1,-1,-1):\n",
        "    PM=(Ps[i]@Ls[i])@PM\n",
        "  PM\n",
        "\n",
        "  return PM,U"
      ],
      "metadata": {
        "id": "rSHdf6tiF2K3"
      },
      "execution_count": 3,
      "outputs": []
    },
    {
      "cell_type": "code",
      "source": [
        "L,U=LU_PartialPivot(A)\n",
        "L,U"
      ],
      "metadata": {
        "colab": {
          "base_uri": "https://localhost:8080/"
        },
        "id": "Ut9NCsgPHtlF",
        "outputId": "1863f875-725c-4239-ba13-a0ac891f18dc"
      },
      "execution_count": 4,
      "outputs": [
        {
          "output_type": "stream",
          "name": "stdout",
          "text": [
            "k=1\n",
            "k=2\n",
            "k=2\n"
          ]
        },
        {
          "output_type": "execute_result",
          "data": {
            "text/plain": [
              "(array([[0.25, 0.5 , 1.  ],\n",
              "        [1.  , 0.  , 0.  ],\n",
              "        [1.  , 1.  , 0.  ]]),\n",
              " array([[4. , 4. , 2. ],\n",
              "        [0. , 2. , 2. ],\n",
              "        [0. , 0. , 0.5]]))"
            ]
          },
          "metadata": {},
          "execution_count": 4
        }
      ]
    },
    {
      "cell_type": "code",
      "source": [
        "L@U"
      ],
      "metadata": {
        "id": "qHe-4mucHxDC",
        "outputId": "25d0974d-8593-4da7-ea6f-6a637bfdf196",
        "colab": {
          "base_uri": "https://localhost:8080/"
        }
      },
      "execution_count": 5,
      "outputs": [
        {
          "output_type": "execute_result",
          "data": {
            "text/plain": [
              "array([[1., 2., 2.],\n",
              "       [4., 4., 2.],\n",
              "       [4., 6., 4.]])"
            ]
          },
          "metadata": {},
          "execution_count": 5
        }
      ]
    },
    {
      "cell_type": "code",
      "source": [],
      "metadata": {
        "id": "t2PGvWDsh7h5"
      },
      "execution_count": null,
      "outputs": []
    }
  ]
}