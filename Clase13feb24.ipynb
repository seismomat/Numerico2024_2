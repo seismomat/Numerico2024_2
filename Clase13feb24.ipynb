{
  "nbformat": 4,
  "nbformat_minor": 0,
  "metadata": {
    "colab": {
      "provenance": [],
      "authorship_tag": "ABX9TyM6RKuQBaKOARJPjwLUL+kg",
      "include_colab_link": true
    },
    "kernelspec": {
      "name": "python3",
      "display_name": "Python 3"
    },
    "language_info": {
      "name": "python"
    }
  },
  "cells": [
    {
      "cell_type": "markdown",
      "metadata": {
        "id": "view-in-github",
        "colab_type": "text"
      },
      "source": [
        "<a href=\"https://colab.research.google.com/github/seismomat/Numerico2024_2/blob/main/Clase13feb24.ipynb\" target=\"_parent\"><img src=\"https://colab.research.google.com/assets/colab-badge.svg\" alt=\"Open In Colab\"/></a>"
      ]
    },
    {
      "cell_type": "markdown",
      "source": [
        "Sentencia if-else"
      ],
      "metadata": {
        "id": "PF1fl08PAma4"
      }
    },
    {
      "cell_type": "code",
      "source": [
        "a=2\n",
        "\n",
        "if a>2:\n",
        "  print(\"Es mayor que dos\")\n",
        "else:\n",
        "  print(\"No es mayor que dos\")"
      ],
      "metadata": {
        "id": "ofXitOE1AlyS"
      },
      "execution_count": null,
      "outputs": []
    },
    {
      "cell_type": "markdown",
      "source": [
        "Sentencia if-elif-else"
      ],
      "metadata": {
        "id": "3v5CSDBOAqpS"
      }
    },
    {
      "cell_type": "code",
      "source": [
        "if a>2:\n",
        "  print(\"Es mayor que dos\")\n",
        "elif a==2:\n",
        "  print(\"Es igual a dos\")\n",
        "else:\n",
        "  print(\"No es mayor que dos\")"
      ],
      "metadata": {
        "colab": {
          "base_uri": "https://localhost:8080/"
        },
        "id": "nIJ1AdiRAjqM",
        "outputId": "b75a3cd3-ec55-42ec-e81d-39d845d6342a"
      },
      "execution_count": 5,
      "outputs": [
        {
          "output_type": "stream",
          "name": "stdout",
          "text": [
            "Es igual a dos\n"
          ]
        }
      ]
    },
    {
      "cell_type": "markdown",
      "source": [
        "Setencias anidadas"
      ],
      "metadata": {
        "id": "FzqpAocFBACD"
      }
    },
    {
      "cell_type": "code",
      "source": [
        "numero=4\n",
        "\n",
        "if numero>2:\n",
        "  if (numero %2)==0:\n",
        "    print(\"Es mayor que dos y par\")\n",
        "  else:\n",
        "    print(\"Es mayor que dos e impar\")\n",
        "else:\n",
        "  print(\" no cumple\")"
      ],
      "metadata": {
        "colab": {
          "base_uri": "https://localhost:8080/"
        },
        "id": "RpRFBA7PA2TG",
        "outputId": "04f6ab4f-b081-4bdc-a716-47193b1c50d5"
      },
      "execution_count": 7,
      "outputs": [
        {
          "output_type": "stream",
          "name": "stdout",
          "text": [
            "Es mayor que dos y par\n"
          ]
        }
      ]
    },
    {
      "cell_type": "markdown",
      "source": [
        "Comentarios"
      ],
      "metadata": {
        "id": "tvbvovh5CftY"
      }
    },
    {
      "cell_type": "markdown",
      "source": [
        "Comentario corto"
      ],
      "metadata": {
        "id": "--tK8S7uCmI0"
      }
    },
    {
      "cell_type": "code",
      "source": [
        "# este es un comentario"
      ],
      "metadata": {
        "id": "l0xgOkIIBex9"
      },
      "execution_count": 8,
      "outputs": []
    },
    {
      "cell_type": "markdown",
      "source": [
        "Comentario largo"
      ],
      "metadata": {
        "id": "3hGqMHoYCoXF"
      }
    },
    {
      "cell_type": "code",
      "source": [
        "\"\"\"\n",
        "if numero>2:\n",
        "  if (numero %2)==0:\n",
        "    print(\"Es mayor que dos y par\")\n",
        "  else:\n",
        "    print(\"Es mayor que dos e impar\")\n",
        "else:\n",
        "  print(\" no cumple\")\n",
        "\"\"\""
      ],
      "metadata": {
        "colab": {
          "base_uri": "https://localhost:8080/",
          "height": 54
        },
        "id": "BGzB4KCVCkDh",
        "outputId": "9a48b628-21ad-4d8d-df81-0727a95bc117"
      },
      "execution_count": 9,
      "outputs": [
        {
          "output_type": "execute_result",
          "data": {
            "text/plain": [
              "'\\nif numero>2:\\n  if (numero %2)==0:\\n    print(\"Es mayor que dos y par\")\\n  else:\\n    print(\"Es mayor que dos e impar\")\\nelse:\\n  print(\" no cumple\")\\n'"
            ],
            "application/vnd.google.colaboratory.intrinsic+json": {
              "type": "string"
            }
          },
          "metadata": {},
          "execution_count": 9
        }
      ]
    },
    {
      "cell_type": "markdown",
      "source": [
        "Ciclo **FOR**"
      ],
      "metadata": {
        "id": "c5h5r66aC1xk"
      }
    },
    {
      "cell_type": "code",
      "source": [
        "for i in range(11):\n",
        "  print(2*i)"
      ],
      "metadata": {
        "colab": {
          "base_uri": "https://localhost:8080/"
        },
        "id": "bpD4ZBN3CuAn",
        "outputId": "3a96851e-4607-46ee-e69b-f517c455f6a2"
      },
      "execution_count": 12,
      "outputs": [
        {
          "output_type": "stream",
          "name": "stdout",
          "text": [
            "0\n",
            "2\n",
            "4\n",
            "6\n",
            "8\n",
            "10\n",
            "12\n",
            "14\n",
            "16\n",
            "18\n",
            "20\n"
          ]
        }
      ]
    },
    {
      "cell_type": "code",
      "source": [
        "lista=[\"x\",\"I\",\"a\",\"E\"]\n",
        "\n",
        "for i in lista:\n",
        "  print(i)"
      ],
      "metadata": {
        "colab": {
          "base_uri": "https://localhost:8080/"
        },
        "id": "YZ6HnlORDCxx",
        "outputId": "67f9d82f-83f5-41fd-afa0-98911a91eb74"
      },
      "execution_count": 13,
      "outputs": [
        {
          "output_type": "stream",
          "name": "stdout",
          "text": [
            "x\n",
            "I\n",
            "a\n",
            "E\n"
          ]
        }
      ]
    },
    {
      "cell_type": "code",
      "source": [
        "tupla=(\"x\",\"I\",\"a\",\"E\")\n",
        "\n",
        "for i in tupla:\n",
        "  print(i)"
      ],
      "metadata": {
        "colab": {
          "base_uri": "https://localhost:8080/"
        },
        "id": "c2Vbce6wDhvm",
        "outputId": "5fa71ca9-794c-45d1-b9ac-cfd6dae7753b"
      },
      "execution_count": 14,
      "outputs": [
        {
          "output_type": "stream",
          "name": "stdout",
          "text": [
            "x\n",
            "I\n",
            "a\n",
            "E\n"
          ]
        }
      ]
    },
    {
      "cell_type": "markdown",
      "source": [
        "Sentencia **Break**"
      ],
      "metadata": {
        "id": "OAeKnTTqEDpr"
      }
    },
    {
      "cell_type": "code",
      "source": [
        "fruits = [\"apple\", \"banana\", \"cherry\"]\n",
        "for x in fruits:\n",
        "  print(x)\n",
        "  if x == \"banana\":\n",
        "    break"
      ],
      "metadata": {
        "colab": {
          "base_uri": "https://localhost:8080/"
        },
        "id": "Z_QQffQADwat",
        "outputId": "da43b14d-9647-4018-f12b-a3a30da6bfb6"
      },
      "execution_count": 16,
      "outputs": [
        {
          "output_type": "stream",
          "name": "stdout",
          "text": [
            "apple\n",
            "banana\n"
          ]
        }
      ]
    },
    {
      "cell_type": "markdown",
      "source": [
        "Modificacion para que no se vea banana"
      ],
      "metadata": {
        "id": "sRwAf2ffEcXS"
      }
    },
    {
      "cell_type": "code",
      "source": [
        "fruits = [\"banana\",\"apple\", \"cherry\"]\n",
        "for x in range(len(fruits)):\n",
        "  if fruits[x] == \"banana\":\n",
        "    print(fruits[x-2])\n",
        "    break"
      ],
      "metadata": {
        "colab": {
          "base_uri": "https://localhost:8080/"
        },
        "id": "Huwu6VHRESwF",
        "outputId": "0c02b4dc-6453-4981-aca0-8a0432ca1656"
      },
      "execution_count": 27,
      "outputs": [
        {
          "output_type": "stream",
          "name": "stdout",
          "text": [
            "apple\n"
          ]
        }
      ]
    },
    {
      "cell_type": "markdown",
      "source": [
        "Sentencia **Continue**"
      ],
      "metadata": {
        "id": "HbVSoOXiGGvv"
      }
    },
    {
      "cell_type": "code",
      "source": [
        "fruits1 = [\"apple\", \"banana\", \"cherry\"]\n",
        "for x in fruits1:\n",
        "  if x == \"banana\":\n",
        "    continue\n",
        "  print(x)"
      ],
      "metadata": {
        "colab": {
          "base_uri": "https://localhost:8080/"
        },
        "id": "CaGCDAtmEpky",
        "outputId": "a358bb1d-79b2-4225-ef14-4b31d384df7d"
      },
      "execution_count": 35,
      "outputs": [
        {
          "output_type": "stream",
          "name": "stdout",
          "text": [
            "apple\n",
            "cherry\n"
          ]
        }
      ]
    },
    {
      "cell_type": "code",
      "source": [
        "fruits1 = [\"apple\", \"banana\", \"cherry\"]\n",
        "for x in fruits1:\n",
        "  if x == \"banana\":\n",
        "    continue\n",
        "  print(x)\n",
        "  print(1+1)\n",
        "\n",
        "  if x == \"banana\":\n",
        "    print(\"Hola\")"
      ],
      "metadata": {
        "colab": {
          "base_uri": "https://localhost:8080/"
        },
        "id": "LnuSRs-yF4gN",
        "outputId": "6c2ad9ce-6345-4f37-9b0c-c28b2b8c554b"
      },
      "execution_count": 36,
      "outputs": [
        {
          "output_type": "stream",
          "name": "stdout",
          "text": [
            "apple\n",
            "2\n",
            "cherry\n",
            "2\n"
          ]
        }
      ]
    }
  ]
}