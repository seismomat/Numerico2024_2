{
  "nbformat": 4,
  "nbformat_minor": 0,
  "metadata": {
    "colab": {
      "provenance": [],
      "authorship_tag": "ABX9TyPCCrz3CzImYs34veUAU5+T",
      "include_colab_link": true
    },
    "kernelspec": {
      "name": "python3",
      "display_name": "Python 3"
    },
    "language_info": {
      "name": "python"
    }
  },
  "cells": [
    {
      "cell_type": "markdown",
      "metadata": {
        "id": "view-in-github",
        "colab_type": "text"
      },
      "source": [
        "<a href=\"https://colab.research.google.com/github/seismomat/Numerico2024_2/blob/main/Fact_QR_Givens.ipynb\" target=\"_parent\"><img src=\"https://colab.research.google.com/assets/colab-badge.svg\" alt=\"Open In Colab\"/></a>"
      ]
    },
    {
      "cell_type": "code",
      "execution_count": 1,
      "metadata": {
        "id": "4787QuTIZukL"
      },
      "outputs": [],
      "source": [
        "import numpy as np\n",
        "from numpy import linalg as LA\n",
        "from numba import jit"
      ]
    },
    {
      "cell_type": "code",
      "source": [
        "A=np.array([[6.0,5.0,0.0],[5.0,1.0,4.0],[0.0,4.0,3.0]])\n",
        "A"
      ],
      "metadata": {
        "colab": {
          "base_uri": "https://localhost:8080/"
        },
        "id": "XCfFL2JKZweE",
        "outputId": "b9bd68a9-658d-4b68-9754-b6b937a40c37"
      },
      "execution_count": 2,
      "outputs": [
        {
          "output_type": "execute_result",
          "data": {
            "text/plain": [
              "array([[6., 5., 0.],\n",
              "       [5., 1., 4.],\n",
              "       [0., 4., 3.]])"
            ]
          },
          "metadata": {},
          "execution_count": 2
        }
      ]
    },
    {
      "cell_type": "code",
      "source": [
        "def GivensMatrix(x,i,j):\n",
        "    \"\"\" Compute the Givens rotations matrix\n",
        "        Inputs:\n",
        "              x: float array\n",
        "              i: int number ( ith column,row)\n",
        "              j: int number ( jth column,row)\n",
        "\n",
        "        Outputs:\n",
        "              float 2darray\n",
        "\n",
        "        >>>  A=np.array([-1.0,2.0,3.0])\n",
        "             GivensMatrix(A,0,1)\n",
        "            [[-0.4472136   0.89442719  0.        ]\n",
        "             [-0.89442719 -0.4472136   0.        ]\n",
        "             [ 0.          0.          1.        ]]\n",
        "    \"\"\"\n",
        "    vec=np.array([x[i], x[j]])\n",
        "    rnorm=LA.norm(vec)\n",
        "    c=vec[0]/rnorm;s=vec[1]/rnorm;\n",
        "    Giv=np.eye(x.shape[0])\n",
        "    Giv[i,i]=c; Giv[i,j]=s;\n",
        "    Giv[j,j]=c;  Giv[j,i]=-s\n",
        "\n",
        "    return Giv"
      ],
      "metadata": {
        "id": "6FgLKoakZ6iM"
      },
      "execution_count": 3,
      "outputs": []
    },
    {
      "cell_type": "code",
      "source": [
        "class FactGivens:\n",
        "    def __init__(self,A):\n",
        "        self.A=A # original matrix\n",
        "        self.rows=self.A.shape[0] # rows\n",
        "        self.col=self.A.shape[1] # columns\n",
        "        self.min=np.minimum(self.col,self.rows-1) # minimum between\n",
        "        # columns and rows\n",
        "        self.R=np.copy(self.A)\n",
        "\n",
        "    def Givens(self):\n",
        "        Qs=[]\n",
        "        for COL in range(self.min):\n",
        "            vi=self.R[:,COL]\n",
        "            for ROW in range(COL+1,self.rows):\n",
        "                if(vi[ROW]!=0):\n",
        "                    GM=GivensMatrix(vi,ROW-1,ROW)\n",
        "                    self.R=GM @ self.R\n",
        "                    Qs.append(GM)\n",
        "        self.Q=Qs[0].T\n",
        "        for i in range(1,len(Qs)):\n",
        "        \tself.Q=self.Q@Qs[i].T\n",
        "\n",
        "        return self.R,self.Q"
      ],
      "metadata": {
        "id": "9rYWIml8Z1Gz"
      },
      "execution_count": 4,
      "outputs": []
    },
    {
      "cell_type": "code",
      "source": [
        "Fac=FactGivens(A)\n",
        "R,Q=Fac.Givens()\n",
        "\n",
        "print(Q)"
      ],
      "metadata": {
        "colab": {
          "base_uri": "https://localhost:8080/"
        },
        "id": "Vy9twq5wZ_Uc",
        "outputId": "24f4b1de-4318-42a2-f448-75be01f9d036"
      },
      "execution_count": 7,
      "outputs": [
        {
          "output_type": "stream",
          "name": "stdout",
          "text": [
            "[[ 0.76822128  0.33265418  0.54697099]\n",
            " [ 0.6401844  -0.39918502 -0.65636519]\n",
            " [ 0.          0.854396   -0.51962244]]\n"
          ]
        }
      ]
    },
    {
      "cell_type": "code",
      "source": [
        "print(R)"
      ],
      "metadata": {
        "colab": {
          "base_uri": "https://localhost:8080/"
        },
        "id": "eL3__2mFa26b",
        "outputId": "86a0f7b5-68ff-40ff-dc71-a53c8bd45a5a"
      },
      "execution_count": 8,
      "outputs": [
        {
          "output_type": "stream",
          "name": "stdout",
          "text": [
            "[[ 7.81024968e+00  4.48129080e+00  2.56073760e+00]\n",
            " [ 2.88448398e-16  4.68166987e+00  9.66447932e-01]\n",
            " [ 4.74285054e-16  0.00000000e+00 -4.18432806e+00]]\n"
          ]
        }
      ]
    },
    {
      "cell_type": "code",
      "source": [
        "\n",
        "# Realizar la factorización QR\n",
        "Q, R = np.linalg.qr(A)\n",
        "\n",
        "print(\"Matriz Q:\")\n",
        "print(Q)"
      ],
      "metadata": {
        "colab": {
          "base_uri": "https://localhost:8080/"
        },
        "id": "hLiE_9V-adUM",
        "outputId": "ce4dd512-57b7-473f-c650-4184061bf4d5"
      },
      "execution_count": 6,
      "outputs": [
        {
          "output_type": "stream",
          "name": "stdout",
          "text": [
            "Matriz Q:\n",
            "[[-0.76822128  0.33265418 -0.54697099]\n",
            " [-0.6401844  -0.39918502  0.65636519]\n",
            " [-0.          0.854396    0.51962244]]\n"
          ]
        }
      ]
    },
    {
      "cell_type": "code",
      "source": [
        "\n",
        "print(\"\\nMatriz R:\")\n",
        "print(R)"
      ],
      "metadata": {
        "colab": {
          "base_uri": "https://localhost:8080/"
        },
        "id": "ba9CgWmLa0UT",
        "outputId": "76539bcb-e31e-48d4-9c3c-f3c034a7836c"
      },
      "execution_count": 9,
      "outputs": [
        {
          "output_type": "stream",
          "name": "stdout",
          "text": [
            "\n",
            "Matriz R:\n",
            "[[ 7.81024968e+00  4.48129080e+00  2.56073760e+00]\n",
            " [ 2.88448398e-16  4.68166987e+00  9.66447932e-01]\n",
            " [ 4.74285054e-16  0.00000000e+00 -4.18432806e+00]]\n"
          ]
        }
      ]
    },
    {
      "cell_type": "code",
      "source": [],
      "metadata": {
        "id": "yk0yhBEia5h7"
      },
      "execution_count": null,
      "outputs": []
    }
  ]
}